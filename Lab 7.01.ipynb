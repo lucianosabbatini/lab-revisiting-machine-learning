{
 "cells": [
  {
   "cell_type": "code",
   "execution_count": 1,
   "id": "d0603b81",
   "metadata": {},
   "outputs": [],
   "source": [
    "import pandas as pd\n",
    "import numpy as np"
   ]
  },
  {
   "cell_type": "code",
   "execution_count": 2,
   "id": "9b8224fd",
   "metadata": {},
   "outputs": [
    {
     "name": "stderr",
     "output_type": "stream",
     "text": [
      "C:\\Users\\sabba\\AppData\\Local\\Temp\\ipykernel_16536\\1139992032.py:1: DtypeWarning: Columns (8) have mixed types. Specify dtype option on import or set low_memory=False.\n",
      "  df=pd.read_csv('learningSet.csv')\n"
     ]
    }
   ],
   "source": [
    "df=pd.read_csv('learningSet.csv')"
   ]
  },
  {
   "cell_type": "code",
   "execution_count": 3,
   "id": "ef4014fb",
   "metadata": {},
   "outputs": [],
   "source": [
    "# separating types\n",
    "df_num=df.select_dtypes(np.number)\n",
    "df_cat=df.select_dtypes(object)"
   ]
  },
  {
   "cell_type": "code",
   "execution_count": 4,
   "id": "d012d3c2",
   "metadata": {},
   "outputs": [
    {
     "data": {
      "text/plain": [
       "OSOURCE       0\n",
       "STATE         0\n",
       "ZIP           0\n",
       "MAILCODE      0\n",
       "PVASTATE      0\n",
       "           ... \n",
       "RFA_2A        0\n",
       "MDMAUD_R      0\n",
       "MDMAUD_F      0\n",
       "MDMAUD_A      0\n",
       "GEOCODE2    132\n",
       "Length: 74, dtype: int64"
      ]
     },
     "execution_count": 4,
     "metadata": {},
     "output_type": "execute_result"
    }
   ],
   "source": [
    "df_cat.isna().sum()"
   ]
  },
  {
   "cell_type": "code",
   "execution_count": 5,
   "id": "3cdc8049",
   "metadata": {},
   "outputs": [],
   "source": [
    "# replacing the empty values for Nan\n",
    "df_cat = df_cat.apply(lambda x: x.replace(\" \", np.NaN))"
   ]
  },
  {
   "cell_type": "code",
   "execution_count": 6,
   "id": "4360e1ab",
   "metadata": {},
   "outputs": [],
   "source": [
    "#Create a new empty list called drop_list"
   ]
  },
  {
   "cell_type": "code",
   "execution_count": 7,
   "id": "9a888cff",
   "metadata": {},
   "outputs": [],
   "source": [
    "drop_list=[]"
   ]
  },
  {
   "cell_type": "code",
   "execution_count": 8,
   "id": "68fd86e8",
   "metadata": {},
   "outputs": [],
   "source": [
    "drop_list.append('OSOURCE')"
   ]
  },
  {
   "cell_type": "code",
   "execution_count": 9,
   "id": "f832f0d9",
   "metadata": {},
   "outputs": [],
   "source": [
    "drop_list=drop_list + ['ZIP']"
   ]
  },
  {
   "cell_type": "code",
   "execution_count": 10,
   "id": "66fe05d8",
   "metadata": {},
   "outputs": [
    {
     "data": {
      "text/plain": [
       "['OSOURCE', 'ZIP']"
      ]
     },
     "execution_count": 10,
     "metadata": {},
     "output_type": "execute_result"
    }
   ],
   "source": [
    "drop_list"
   ]
  },
  {
   "cell_type": "code",
   "execution_count": 11,
   "id": "19650c98",
   "metadata": {},
   "outputs": [],
   "source": [
    "# Identify columns that over 85% missing values"
   ]
  },
  {
   "cell_type": "code",
   "execution_count": 12,
   "id": "d8565f61",
   "metadata": {},
   "outputs": [
    {
     "data": {
      "text/html": [
       "<div>\n",
       "<style scoped>\n",
       "    .dataframe tbody tr th:only-of-type {\n",
       "        vertical-align: middle;\n",
       "    }\n",
       "\n",
       "    .dataframe tbody tr th {\n",
       "        vertical-align: top;\n",
       "    }\n",
       "\n",
       "    .dataframe thead th {\n",
       "        text-align: right;\n",
       "    }\n",
       "</style>\n",
       "<table border=\"1\" class=\"dataframe\">\n",
       "  <thead>\n",
       "    <tr style=\"text-align: right;\">\n",
       "      <th></th>\n",
       "      <th>column_name</th>\n",
       "      <th>nulls_percentage</th>\n",
       "    </tr>\n",
       "  </thead>\n",
       "  <tbody>\n",
       "    <tr>\n",
       "      <th>0</th>\n",
       "      <td>OSOURCE</td>\n",
       "      <td>0.009726</td>\n",
       "    </tr>\n",
       "    <tr>\n",
       "      <th>3</th>\n",
       "      <td>MAILCODE</td>\n",
       "      <td>0.985337</td>\n",
       "    </tr>\n",
       "    <tr>\n",
       "      <th>4</th>\n",
       "      <td>PVASTATE</td>\n",
       "      <td>0.984719</td>\n",
       "    </tr>\n",
       "    <tr>\n",
       "      <th>5</th>\n",
       "      <td>NOEXCH</td>\n",
       "      <td>0.000073</td>\n",
       "    </tr>\n",
       "    <tr>\n",
       "      <th>6</th>\n",
       "      <td>RECINHSE</td>\n",
       "      <td>0.929747</td>\n",
       "    </tr>\n",
       "    <tr>\n",
       "      <th>7</th>\n",
       "      <td>RECP3</td>\n",
       "      <td>0.978860</td>\n",
       "    </tr>\n",
       "    <tr>\n",
       "      <th>8</th>\n",
       "      <td>RECPGVG</td>\n",
       "      <td>0.998805</td>\n",
       "    </tr>\n",
       "    <tr>\n",
       "      <th>9</th>\n",
       "      <td>RECSWEEP</td>\n",
       "      <td>0.983052</td>\n",
       "    </tr>\n",
       "    <tr>\n",
       "      <th>11</th>\n",
       "      <td>DOMAIN</td>\n",
       "      <td>0.024274</td>\n",
       "    </tr>\n",
       "    <tr>\n",
       "      <th>12</th>\n",
       "      <td>CLUSTER</td>\n",
       "      <td>0.024274</td>\n",
       "    </tr>\n",
       "    <tr>\n",
       "      <th>13</th>\n",
       "      <td>AGEFLAG</td>\n",
       "      <td>0.309689</td>\n",
       "    </tr>\n",
       "    <tr>\n",
       "      <th>14</th>\n",
       "      <td>HOMEOWNR</td>\n",
       "      <td>0.232969</td>\n",
       "    </tr>\n",
       "    <tr>\n",
       "      <th>15</th>\n",
       "      <td>CHILD03</td>\n",
       "      <td>0.987989</td>\n",
       "    </tr>\n",
       "    <tr>\n",
       "      <th>16</th>\n",
       "      <td>CHILD07</td>\n",
       "      <td>0.983587</td>\n",
       "    </tr>\n",
       "    <tr>\n",
       "      <th>17</th>\n",
       "      <td>CHILD12</td>\n",
       "      <td>0.981019</td>\n",
       "    </tr>\n",
       "    <tr>\n",
       "      <th>18</th>\n",
       "      <td>CHILD18</td>\n",
       "      <td>0.970161</td>\n",
       "    </tr>\n",
       "    <tr>\n",
       "      <th>19</th>\n",
       "      <td>GENDER</td>\n",
       "      <td>0.030992</td>\n",
       "    </tr>\n",
       "    <tr>\n",
       "      <th>20</th>\n",
       "      <td>DATASRCE</td>\n",
       "      <td>0.223033</td>\n",
       "    </tr>\n",
       "    <tr>\n",
       "      <th>21</th>\n",
       "      <td>SOLP3</td>\n",
       "      <td>0.998113</td>\n",
       "    </tr>\n",
       "    <tr>\n",
       "      <th>22</th>\n",
       "      <td>SOLIH</td>\n",
       "      <td>0.935019</td>\n",
       "    </tr>\n",
       "    <tr>\n",
       "      <th>23</th>\n",
       "      <td>MAJOR</td>\n",
       "      <td>0.996919</td>\n",
       "    </tr>\n",
       "    <tr>\n",
       "      <th>24</th>\n",
       "      <td>GEOCODE</td>\n",
       "      <td>0.840230</td>\n",
       "    </tr>\n",
       "    <tr>\n",
       "      <th>25</th>\n",
       "      <td>COLLECT1</td>\n",
       "      <td>0.945479</td>\n",
       "    </tr>\n",
       "    <tr>\n",
       "      <th>26</th>\n",
       "      <td>VETERANS</td>\n",
       "      <td>0.890727</td>\n",
       "    </tr>\n",
       "    <tr>\n",
       "      <th>27</th>\n",
       "      <td>BIBLE</td>\n",
       "      <td>0.907024</td>\n",
       "    </tr>\n",
       "    <tr>\n",
       "      <th>28</th>\n",
       "      <td>CATLG</td>\n",
       "      <td>0.917568</td>\n",
       "    </tr>\n",
       "    <tr>\n",
       "      <th>29</th>\n",
       "      <td>HOMEE</td>\n",
       "      <td>0.990703</td>\n",
       "    </tr>\n",
       "    <tr>\n",
       "      <th>30</th>\n",
       "      <td>PETS</td>\n",
       "      <td>0.849851</td>\n",
       "    </tr>\n",
       "    <tr>\n",
       "      <th>31</th>\n",
       "      <td>CDPLAY</td>\n",
       "      <td>0.871568</td>\n",
       "    </tr>\n",
       "    <tr>\n",
       "      <th>32</th>\n",
       "      <td>STEREO</td>\n",
       "      <td>0.865908</td>\n",
       "    </tr>\n",
       "    <tr>\n",
       "      <th>33</th>\n",
       "      <td>PCOWNERS</td>\n",
       "      <td>0.890150</td>\n",
       "    </tr>\n",
       "    <tr>\n",
       "      <th>34</th>\n",
       "      <td>PHOTO</td>\n",
       "      <td>0.949839</td>\n",
       "    </tr>\n",
       "    <tr>\n",
       "      <th>35</th>\n",
       "      <td>CRAFTS</td>\n",
       "      <td>0.914308</td>\n",
       "    </tr>\n",
       "    <tr>\n",
       "      <th>36</th>\n",
       "      <td>FISHER</td>\n",
       "      <td>0.925271</td>\n",
       "    </tr>\n",
       "    <tr>\n",
       "      <th>37</th>\n",
       "      <td>GARDENIN</td>\n",
       "      <td>0.859535</td>\n",
       "    </tr>\n",
       "    <tr>\n",
       "      <th>38</th>\n",
       "      <td>BOATS</td>\n",
       "      <td>0.978745</td>\n",
       "    </tr>\n",
       "    <tr>\n",
       "      <th>39</th>\n",
       "      <td>WALKER</td>\n",
       "      <td>0.889940</td>\n",
       "    </tr>\n",
       "    <tr>\n",
       "      <th>40</th>\n",
       "      <td>KIDSTUFF</td>\n",
       "      <td>0.983901</td>\n",
       "    </tr>\n",
       "    <tr>\n",
       "      <th>41</th>\n",
       "      <td>CARDS</td>\n",
       "      <td>0.989089</td>\n",
       "    </tr>\n",
       "    <tr>\n",
       "      <th>42</th>\n",
       "      <td>PLATES</td>\n",
       "      <td>0.994131</td>\n",
       "    </tr>\n",
       "    <tr>\n",
       "      <th>43</th>\n",
       "      <td>LIFESRC</td>\n",
       "      <td>0.566302</td>\n",
       "    </tr>\n",
       "    <tr>\n",
       "      <th>44</th>\n",
       "      <td>PEPSTRFL</td>\n",
       "      <td>0.525542</td>\n",
       "    </tr>\n",
       "    <tr>\n",
       "      <th>46</th>\n",
       "      <td>RFA_3</td>\n",
       "      <td>0.020438</td>\n",
       "    </tr>\n",
       "    <tr>\n",
       "      <th>47</th>\n",
       "      <td>RFA_4</td>\n",
       "      <td>0.024232</td>\n",
       "    </tr>\n",
       "    <tr>\n",
       "      <th>48</th>\n",
       "      <td>RFA_5</td>\n",
       "      <td>0.352052</td>\n",
       "    </tr>\n",
       "    <tr>\n",
       "      <th>49</th>\n",
       "      <td>RFA_6</td>\n",
       "      <td>0.037280</td>\n",
       "    </tr>\n",
       "    <tr>\n",
       "      <th>50</th>\n",
       "      <td>RFA_7</td>\n",
       "      <td>0.093007</td>\n",
       "    </tr>\n",
       "    <tr>\n",
       "      <th>51</th>\n",
       "      <td>RFA_8</td>\n",
       "      <td>0.036798</td>\n",
       "    </tr>\n",
       "    <tr>\n",
       "      <th>52</th>\n",
       "      <td>RFA_9</td>\n",
       "      <td>0.117857</td>\n",
       "    </tr>\n",
       "    <tr>\n",
       "      <th>53</th>\n",
       "      <td>RFA_10</td>\n",
       "      <td>0.343227</td>\n",
       "    </tr>\n",
       "    <tr>\n",
       "      <th>54</th>\n",
       "      <td>RFA_11</td>\n",
       "      <td>0.109232</td>\n",
       "    </tr>\n",
       "    <tr>\n",
       "      <th>55</th>\n",
       "      <td>RFA_12</td>\n",
       "      <td>0.093521</td>\n",
       "    </tr>\n",
       "    <tr>\n",
       "      <th>56</th>\n",
       "      <td>RFA_13</td>\n",
       "      <td>0.421530</td>\n",
       "    </tr>\n",
       "    <tr>\n",
       "      <th>57</th>\n",
       "      <td>RFA_14</td>\n",
       "      <td>0.197742</td>\n",
       "    </tr>\n",
       "    <tr>\n",
       "      <th>58</th>\n",
       "      <td>RFA_15</td>\n",
       "      <td>0.686255</td>\n",
       "    </tr>\n",
       "    <tr>\n",
       "      <th>59</th>\n",
       "      <td>RFA_16</td>\n",
       "      <td>0.213988</td>\n",
       "    </tr>\n",
       "    <tr>\n",
       "      <th>60</th>\n",
       "      <td>RFA_17</td>\n",
       "      <td>0.289796</td>\n",
       "    </tr>\n",
       "    <tr>\n",
       "      <th>61</th>\n",
       "      <td>RFA_18</td>\n",
       "      <td>0.222855</td>\n",
       "    </tr>\n",
       "    <tr>\n",
       "      <th>62</th>\n",
       "      <td>RFA_19</td>\n",
       "      <td>0.256697</td>\n",
       "    </tr>\n",
       "    <tr>\n",
       "      <th>63</th>\n",
       "      <td>RFA_20</td>\n",
       "      <td>0.526139</td>\n",
       "    </tr>\n",
       "  </tbody>\n",
       "</table>\n",
       "</div>"
      ],
      "text/plain": [
       "   column_name  nulls_percentage\n",
       "0      OSOURCE          0.009726\n",
       "3     MAILCODE          0.985337\n",
       "4     PVASTATE          0.984719\n",
       "5       NOEXCH          0.000073\n",
       "6     RECINHSE          0.929747\n",
       "7        RECP3          0.978860\n",
       "8      RECPGVG          0.998805\n",
       "9     RECSWEEP          0.983052\n",
       "11      DOMAIN          0.024274\n",
       "12     CLUSTER          0.024274\n",
       "13     AGEFLAG          0.309689\n",
       "14    HOMEOWNR          0.232969\n",
       "15     CHILD03          0.987989\n",
       "16     CHILD07          0.983587\n",
       "17     CHILD12          0.981019\n",
       "18     CHILD18          0.970161\n",
       "19      GENDER          0.030992\n",
       "20    DATASRCE          0.223033\n",
       "21       SOLP3          0.998113\n",
       "22       SOLIH          0.935019\n",
       "23       MAJOR          0.996919\n",
       "24     GEOCODE          0.840230\n",
       "25    COLLECT1          0.945479\n",
       "26    VETERANS          0.890727\n",
       "27       BIBLE          0.907024\n",
       "28       CATLG          0.917568\n",
       "29       HOMEE          0.990703\n",
       "30        PETS          0.849851\n",
       "31      CDPLAY          0.871568\n",
       "32      STEREO          0.865908\n",
       "33    PCOWNERS          0.890150\n",
       "34       PHOTO          0.949839\n",
       "35      CRAFTS          0.914308\n",
       "36      FISHER          0.925271\n",
       "37    GARDENIN          0.859535\n",
       "38       BOATS          0.978745\n",
       "39      WALKER          0.889940\n",
       "40    KIDSTUFF          0.983901\n",
       "41       CARDS          0.989089\n",
       "42      PLATES          0.994131\n",
       "43     LIFESRC          0.566302\n",
       "44    PEPSTRFL          0.525542\n",
       "46       RFA_3          0.020438\n",
       "47       RFA_4          0.024232\n",
       "48       RFA_5          0.352052\n",
       "49       RFA_6          0.037280\n",
       "50       RFA_7          0.093007\n",
       "51       RFA_8          0.036798\n",
       "52       RFA_9          0.117857\n",
       "53      RFA_10          0.343227\n",
       "54      RFA_11          0.109232\n",
       "55      RFA_12          0.093521\n",
       "56      RFA_13          0.421530\n",
       "57      RFA_14          0.197742\n",
       "58      RFA_15          0.686255\n",
       "59      RFA_16          0.213988\n",
       "60      RFA_17          0.289796\n",
       "61      RFA_18          0.222855\n",
       "62      RFA_19          0.256697\n",
       "63      RFA_20          0.526139"
      ]
     },
     "execution_count": 12,
     "metadata": {},
     "output_type": "execute_result"
    }
   ],
   "source": [
    "nulls_percent_df = pd.DataFrame(df_cat.isna().sum()/len(df_cat)).reset_index()\n",
    "nulls_percent_df\n",
    "nulls_percent_df.columns = ['column_name', 'nulls_percentage']\n",
    "nulls_percent_df[nulls_percent_df['nulls_percentage']!=0].head(60)"
   ]
  },
  {
   "cell_type": "code",
   "execution_count": 13,
   "id": "09caeae5",
   "metadata": {},
   "outputs": [],
   "source": [
    "# creating threshold\n"
   ]
  },
  {
   "cell_type": "code",
   "execution_count": 14,
   "id": "a2c7f7a6",
   "metadata": {},
   "outputs": [
    {
     "name": "stdout",
     "output_type": "stream",
     "text": [
      "['MAILCODE', 'PVASTATE', 'RECINHSE', 'RECP3', 'RECPGVG', 'RECSWEEP', 'CHILD03', 'CHILD07', 'CHILD12', 'CHILD18', 'SOLP3', 'SOLIH', 'MAJOR', 'COLLECT1', 'VETERANS', 'BIBLE', 'CATLG', 'HOMEE', 'CDPLAY', 'STEREO', 'PCOWNERS', 'PHOTO', 'CRAFTS', 'FISHER', 'GARDENIN', 'BOATS', 'WALKER', 'KIDSTUFF', 'CARDS', 'PLATES']\n"
     ]
    }
   ],
   "source": [
    "columns_above_threshold = nulls_percent_df[nulls_percent_df['nulls_percentage']>0.85]\n",
    "drop_columns_list = list(columns_above_threshold['column_name'])\n",
    "print(drop_columns_list)"
   ]
  },
  {
   "cell_type": "code",
   "execution_count": 15,
   "id": "42e2485a",
   "metadata": {},
   "outputs": [
    {
     "data": {
      "text/plain": [
       "(95412, 74)"
      ]
     },
     "execution_count": 15,
     "metadata": {},
     "output_type": "execute_result"
    }
   ],
   "source": [
    "df_cat.shape"
   ]
  },
  {
   "cell_type": "code",
   "execution_count": 16,
   "id": "22c75569",
   "metadata": {},
   "outputs": [],
   "source": [
    "drop_list=drop_list + (drop_columns_list)"
   ]
  },
  {
   "cell_type": "code",
   "execution_count": 17,
   "id": "cc272571",
   "metadata": {},
   "outputs": [],
   "source": [
    "# Remove those columns from the dataframe"
   ]
  },
  {
   "cell_type": "code",
   "execution_count": 18,
   "id": "8231d18f",
   "metadata": {},
   "outputs": [],
   "source": [
    "# Filling Nans"
   ]
  },
  {
   "cell_type": "code",
   "execution_count": 19,
   "id": "d233a00d",
   "metadata": {},
   "outputs": [
    {
     "data": {
      "text/plain": [
       "array(['F', 'M', nan, 'C', 'U', 'J', 'A'], dtype=object)"
      ]
     },
     "metadata": {},
     "output_type": "display_data"
    },
    {
     "data": {
      "text/plain": [
       "array(['F', 'M', 'C', 'U', 'J', 'A'], dtype=object)"
      ]
     },
     "metadata": {},
     "output_type": "display_data"
    }
   ],
   "source": [
    "display(df_cat['GENDER'].unique())\n",
    "df_cat['GENDER']=df_cat['GENDER'].fillna('F')\n",
    "display(df_cat['GENDER'].unique())"
   ]
  },
  {
   "cell_type": "code",
   "execution_count": 20,
   "id": "222104f8",
   "metadata": {},
   "outputs": [],
   "source": [
    "# cleaning as requested\n",
    "df_cat['GENDER'] = np.where(df_cat['GENDER'].isin(['F', 'M']), df_cat['GENDER'], 'other')\n"
   ]
  },
  {
   "cell_type": "code",
   "execution_count": 21,
   "id": "6f309284",
   "metadata": {},
   "outputs": [
    {
     "data": {
      "text/plain": [
       "array(['F', 'M', 'other'], dtype=object)"
      ]
     },
     "metadata": {},
     "output_type": "display_data"
    }
   ],
   "source": [
    "display(df_cat['GENDER'].unique())"
   ]
  },
  {
   "cell_type": "code",
   "execution_count": 22,
   "id": "0aa3f40b",
   "metadata": {},
   "outputs": [],
   "source": [
    "df_cat['CLUSTER']=df_cat['CLUSTER'].fillna('40')"
   ]
  },
  {
   "cell_type": "code",
   "execution_count": 23,
   "id": "1b7cfb17",
   "metadata": {},
   "outputs": [],
   "source": [
    "df_cat['HOMEOWNR'] = df_cat['HOMEOWNR'].fillna('U')"
   ]
  },
  {
   "cell_type": "code",
   "execution_count": 24,
   "id": "948ae804",
   "metadata": {},
   "outputs": [],
   "source": [
    "# aggreating DOMAIN into two columns\n",
    "df_cat['DOMAIN'] = df_cat['DOMAIN'].fillna('R2')\n",
    "\n",
    "df_cat['DOMAIN_A'] = list(map(lambda x: x[0], df_cat['DOMAIN']))\n",
    "df_cat['DOMAIN_B'] = list(map(lambda x: x[1], df_cat['DOMAIN']))"
   ]
  },
  {
   "cell_type": "code",
   "execution_count": 25,
   "id": "81e2ba82",
   "metadata": {},
   "outputs": [],
   "source": [
    "df_cat = df_cat.drop('DOMAIN', axis=1)"
   ]
  },
  {
   "cell_type": "code",
   "execution_count": 26,
   "id": "010d4e99",
   "metadata": {},
   "outputs": [],
   "source": [
    "df_cat['DATASRCE'] = df_cat['DATASRCE'].fillna('0')\n",
    "df_cat['GEOCODE2'] = df_cat['GEOCODE2'].fillna('A')"
   ]
  },
  {
   "cell_type": "code",
   "execution_count": 27,
   "id": "de3eb650",
   "metadata": {},
   "outputs": [
    {
     "data": {
      "text/plain": [
       "['OSOURCE',\n",
       " 'ZIP',\n",
       " 'MAILCODE',\n",
       " 'PVASTATE',\n",
       " 'RECINHSE',\n",
       " 'RECP3',\n",
       " 'RECPGVG',\n",
       " 'RECSWEEP',\n",
       " 'CHILD03',\n",
       " 'CHILD07',\n",
       " 'CHILD12',\n",
       " 'CHILD18',\n",
       " 'SOLP3',\n",
       " 'SOLIH',\n",
       " 'MAJOR',\n",
       " 'COLLECT1',\n",
       " 'VETERANS',\n",
       " 'BIBLE',\n",
       " 'CATLG',\n",
       " 'HOMEE',\n",
       " 'CDPLAY',\n",
       " 'STEREO',\n",
       " 'PCOWNERS',\n",
       " 'PHOTO',\n",
       " 'CRAFTS',\n",
       " 'FISHER',\n",
       " 'GARDENIN',\n",
       " 'BOATS',\n",
       " 'WALKER',\n",
       " 'KIDSTUFF',\n",
       " 'CARDS',\n",
       " 'PLATES']"
      ]
     },
     "execution_count": 27,
     "metadata": {},
     "output_type": "execute_result"
    }
   ],
   "source": [
    "drop_list"
   ]
  },
  {
   "cell_type": "code",
   "execution_count": 28,
   "id": "453e74c8",
   "metadata": {},
   "outputs": [],
   "source": [
    "for col_name in df_cat.columns:\n",
    "    if \"RFA\" in col_name:\n",
    "        drop_list.append(col_name) "
   ]
  },
  {
   "cell_type": "code",
   "execution_count": 29,
   "id": "b5d702d5",
   "metadata": {
    "scrolled": true
   },
   "outputs": [],
   "source": [
    "drop_list.remove('RFA_2R')\n",
    "drop_list.remove('RFA_2A')\n"
   ]
  },
  {
   "cell_type": "code",
   "execution_count": 30,
   "id": "e440e5d1",
   "metadata": {},
   "outputs": [
    {
     "data": {
      "text/plain": [
       "NaN    84986\n",
       "Y      10426\n",
       "Name: VETERANS, dtype: int64"
      ]
     },
     "execution_count": 30,
     "metadata": {},
     "output_type": "execute_result"
    }
   ],
   "source": [
    "df_cat['VETERANS'].value_counts(dropna=False)"
   ]
  },
  {
   "cell_type": "code",
   "execution_count": 31,
   "id": "5251c5cb",
   "metadata": {},
   "outputs": [],
   "source": [
    "# Veterans shoul not be on drop_list. Filling nulls with no.\n",
    "df_cat['VETERANS']=df_cat['VETERANS'].fillna('N')"
   ]
  },
  {
   "cell_type": "code",
   "execution_count": 32,
   "id": "5f6c8830",
   "metadata": {},
   "outputs": [],
   "source": [
    "drop_list.remove('VETERANS')"
   ]
  },
  {
   "cell_type": "code",
   "execution_count": 33,
   "id": "50257241",
   "metadata": {},
   "outputs": [
    {
     "data": {
      "text/plain": [
       "NaN    86541\n",
       "Y       8871\n",
       "Name: BIBLE, dtype: int64"
      ]
     },
     "execution_count": 33,
     "metadata": {},
     "output_type": "execute_result"
    }
   ],
   "source": [
    "df_cat['BIBLE'].value_counts(dropna=False)"
   ]
  },
  {
   "cell_type": "code",
   "execution_count": 34,
   "id": "b194bebe",
   "metadata": {},
   "outputs": [],
   "source": [
    "# Same as veterans, might prove usefull to use as a niche.\n",
    "df_cat['BIBLE']=df_cat['BIBLE'].fillna('N')"
   ]
  },
  {
   "cell_type": "code",
   "execution_count": 35,
   "id": "150b44e6",
   "metadata": {},
   "outputs": [],
   "source": [
    "drop_list.remove('BIBLE')"
   ]
  },
  {
   "cell_type": "code",
   "execution_count": 36,
   "id": "cf303b5a",
   "metadata": {},
   "outputs": [
    {
     "data": {
      "text/plain": [
       "NaN    94525\n",
       "Y        887\n",
       "Name: HOMEE, dtype: int64"
      ]
     },
     "execution_count": 36,
     "metadata": {},
     "output_type": "execute_result"
    }
   ],
   "source": [
    "df_cat['HOMEE'].value_counts(dropna=False)\n",
    "# not as usefull, mantain on drop_list"
   ]
  },
  {
   "cell_type": "code",
   "execution_count": 37,
   "id": "535b5b55",
   "metadata": {},
   "outputs": [
    {
     "data": {
      "text/plain": [
       "NaN    95118\n",
       "X        294\n",
       "Name: MAJOR, dtype: int64"
      ]
     },
     "execution_count": 37,
     "metadata": {},
     "output_type": "execute_result"
    }
   ],
   "source": [
    "df_cat['MAJOR'].value_counts(dropna=False)"
   ]
  },
  {
   "cell_type": "code",
   "execution_count": 38,
   "id": "0d97fbf3",
   "metadata": {},
   "outputs": [],
   "source": [
    "# Even though 294 major donors suggest is a big outlier like that, it might be interesting to analyse in separate.\n",
    "df_cat['MAJOR']=df_cat['MAJOR'].fillna('N')\n",
    "df_cat['MAJOR']=df_cat['MAJOR'].str.replace('X','Y')\n",
    "drop_list.remove('MAJOR')"
   ]
  },
  {
   "cell_type": "code",
   "execution_count": 39,
   "id": "85b4b0c8",
   "metadata": {},
   "outputs": [],
   "source": [
    "# create a new column for just the major donors\n",
    "df_cat['TOP_DONORS'] = df_cat['MAJOR'].apply(lambda x: 'Y' if x == 'Y' else None)\n"
   ]
  },
  {
   "cell_type": "code",
   "execution_count": 40,
   "id": "ec8e0056",
   "metadata": {},
   "outputs": [
    {
     "data": {
      "text/html": [
       "<div>\n",
       "<style scoped>\n",
       "    .dataframe tbody tr th:only-of-type {\n",
       "        vertical-align: middle;\n",
       "    }\n",
       "\n",
       "    .dataframe tbody tr th {\n",
       "        vertical-align: top;\n",
       "    }\n",
       "\n",
       "    .dataframe thead th {\n",
       "        text-align: right;\n",
       "    }\n",
       "</style>\n",
       "<table border=\"1\" class=\"dataframe\">\n",
       "  <thead>\n",
       "    <tr style=\"text-align: right;\">\n",
       "      <th></th>\n",
       "      <th>OSOURCE</th>\n",
       "      <th>STATE</th>\n",
       "      <th>ZIP</th>\n",
       "      <th>MAILCODE</th>\n",
       "      <th>PVASTATE</th>\n",
       "      <th>NOEXCH</th>\n",
       "      <th>RECINHSE</th>\n",
       "      <th>RECP3</th>\n",
       "      <th>RECPGVG</th>\n",
       "      <th>RECSWEEP</th>\n",
       "      <th>...</th>\n",
       "      <th>RFA_24</th>\n",
       "      <th>RFA_2R</th>\n",
       "      <th>RFA_2A</th>\n",
       "      <th>MDMAUD_R</th>\n",
       "      <th>MDMAUD_F</th>\n",
       "      <th>MDMAUD_A</th>\n",
       "      <th>GEOCODE2</th>\n",
       "      <th>DOMAIN_A</th>\n",
       "      <th>DOMAIN_B</th>\n",
       "      <th>TOP_DONORS</th>\n",
       "    </tr>\n",
       "  </thead>\n",
       "  <tbody>\n",
       "    <tr>\n",
       "      <th>0</th>\n",
       "      <td>GRI</td>\n",
       "      <td>IL</td>\n",
       "      <td>61081</td>\n",
       "      <td>NaN</td>\n",
       "      <td>NaN</td>\n",
       "      <td>0</td>\n",
       "      <td>NaN</td>\n",
       "      <td>NaN</td>\n",
       "      <td>NaN</td>\n",
       "      <td>NaN</td>\n",
       "      <td>...</td>\n",
       "      <td>S4E</td>\n",
       "      <td>L</td>\n",
       "      <td>E</td>\n",
       "      <td>X</td>\n",
       "      <td>X</td>\n",
       "      <td>X</td>\n",
       "      <td>C</td>\n",
       "      <td>T</td>\n",
       "      <td>2</td>\n",
       "      <td>None</td>\n",
       "    </tr>\n",
       "    <tr>\n",
       "      <th>1</th>\n",
       "      <td>BOA</td>\n",
       "      <td>CA</td>\n",
       "      <td>91326</td>\n",
       "      <td>NaN</td>\n",
       "      <td>NaN</td>\n",
       "      <td>0</td>\n",
       "      <td>NaN</td>\n",
       "      <td>NaN</td>\n",
       "      <td>NaN</td>\n",
       "      <td>NaN</td>\n",
       "      <td>...</td>\n",
       "      <td>F1E</td>\n",
       "      <td>L</td>\n",
       "      <td>G</td>\n",
       "      <td>X</td>\n",
       "      <td>X</td>\n",
       "      <td>X</td>\n",
       "      <td>A</td>\n",
       "      <td>S</td>\n",
       "      <td>1</td>\n",
       "      <td>None</td>\n",
       "    </tr>\n",
       "    <tr>\n",
       "      <th>2</th>\n",
       "      <td>AMH</td>\n",
       "      <td>NC</td>\n",
       "      <td>27017</td>\n",
       "      <td>NaN</td>\n",
       "      <td>NaN</td>\n",
       "      <td>0</td>\n",
       "      <td>NaN</td>\n",
       "      <td>NaN</td>\n",
       "      <td>NaN</td>\n",
       "      <td>NaN</td>\n",
       "      <td>...</td>\n",
       "      <td>S3D</td>\n",
       "      <td>L</td>\n",
       "      <td>E</td>\n",
       "      <td>X</td>\n",
       "      <td>X</td>\n",
       "      <td>X</td>\n",
       "      <td>C</td>\n",
       "      <td>R</td>\n",
       "      <td>2</td>\n",
       "      <td>None</td>\n",
       "    </tr>\n",
       "    <tr>\n",
       "      <th>3</th>\n",
       "      <td>BRY</td>\n",
       "      <td>CA</td>\n",
       "      <td>95953</td>\n",
       "      <td>NaN</td>\n",
       "      <td>NaN</td>\n",
       "      <td>0</td>\n",
       "      <td>NaN</td>\n",
       "      <td>NaN</td>\n",
       "      <td>NaN</td>\n",
       "      <td>NaN</td>\n",
       "      <td>...</td>\n",
       "      <td>NaN</td>\n",
       "      <td>L</td>\n",
       "      <td>E</td>\n",
       "      <td>X</td>\n",
       "      <td>X</td>\n",
       "      <td>X</td>\n",
       "      <td>C</td>\n",
       "      <td>R</td>\n",
       "      <td>2</td>\n",
       "      <td>None</td>\n",
       "    </tr>\n",
       "    <tr>\n",
       "      <th>4</th>\n",
       "      <td>NaN</td>\n",
       "      <td>FL</td>\n",
       "      <td>33176</td>\n",
       "      <td>NaN</td>\n",
       "      <td>NaN</td>\n",
       "      <td>0</td>\n",
       "      <td>X</td>\n",
       "      <td>X</td>\n",
       "      <td>NaN</td>\n",
       "      <td>NaN</td>\n",
       "      <td>...</td>\n",
       "      <td>A3D</td>\n",
       "      <td>L</td>\n",
       "      <td>F</td>\n",
       "      <td>X</td>\n",
       "      <td>X</td>\n",
       "      <td>X</td>\n",
       "      <td>A</td>\n",
       "      <td>S</td>\n",
       "      <td>2</td>\n",
       "      <td>None</td>\n",
       "    </tr>\n",
       "    <tr>\n",
       "      <th>...</th>\n",
       "      <td>...</td>\n",
       "      <td>...</td>\n",
       "      <td>...</td>\n",
       "      <td>...</td>\n",
       "      <td>...</td>\n",
       "      <td>...</td>\n",
       "      <td>...</td>\n",
       "      <td>...</td>\n",
       "      <td>...</td>\n",
       "      <td>...</td>\n",
       "      <td>...</td>\n",
       "      <td>...</td>\n",
       "      <td>...</td>\n",
       "      <td>...</td>\n",
       "      <td>...</td>\n",
       "      <td>...</td>\n",
       "      <td>...</td>\n",
       "      <td>...</td>\n",
       "      <td>...</td>\n",
       "      <td>...</td>\n",
       "      <td>...</td>\n",
       "    </tr>\n",
       "    <tr>\n",
       "      <th>95407</th>\n",
       "      <td>ASE</td>\n",
       "      <td>AK</td>\n",
       "      <td>99504</td>\n",
       "      <td>NaN</td>\n",
       "      <td>NaN</td>\n",
       "      <td>0</td>\n",
       "      <td>NaN</td>\n",
       "      <td>NaN</td>\n",
       "      <td>NaN</td>\n",
       "      <td>NaN</td>\n",
       "      <td>...</td>\n",
       "      <td>NaN</td>\n",
       "      <td>L</td>\n",
       "      <td>G</td>\n",
       "      <td>X</td>\n",
       "      <td>X</td>\n",
       "      <td>X</td>\n",
       "      <td>C</td>\n",
       "      <td>C</td>\n",
       "      <td>2</td>\n",
       "      <td>None</td>\n",
       "    </tr>\n",
       "    <tr>\n",
       "      <th>95408</th>\n",
       "      <td>DCD</td>\n",
       "      <td>TX</td>\n",
       "      <td>77379</td>\n",
       "      <td>NaN</td>\n",
       "      <td>NaN</td>\n",
       "      <td>0</td>\n",
       "      <td>NaN</td>\n",
       "      <td>NaN</td>\n",
       "      <td>NaN</td>\n",
       "      <td>NaN</td>\n",
       "      <td>...</td>\n",
       "      <td>NaN</td>\n",
       "      <td>L</td>\n",
       "      <td>F</td>\n",
       "      <td>X</td>\n",
       "      <td>X</td>\n",
       "      <td>X</td>\n",
       "      <td>A</td>\n",
       "      <td>C</td>\n",
       "      <td>1</td>\n",
       "      <td>None</td>\n",
       "    </tr>\n",
       "    <tr>\n",
       "      <th>95409</th>\n",
       "      <td>MBC</td>\n",
       "      <td>MI</td>\n",
       "      <td>48910</td>\n",
       "      <td>NaN</td>\n",
       "      <td>NaN</td>\n",
       "      <td>0</td>\n",
       "      <td>NaN</td>\n",
       "      <td>X</td>\n",
       "      <td>NaN</td>\n",
       "      <td>NaN</td>\n",
       "      <td>...</td>\n",
       "      <td>NaN</td>\n",
       "      <td>L</td>\n",
       "      <td>E</td>\n",
       "      <td>X</td>\n",
       "      <td>X</td>\n",
       "      <td>X</td>\n",
       "      <td>B</td>\n",
       "      <td>C</td>\n",
       "      <td>3</td>\n",
       "      <td>None</td>\n",
       "    </tr>\n",
       "    <tr>\n",
       "      <th>95410</th>\n",
       "      <td>PRV</td>\n",
       "      <td>CA</td>\n",
       "      <td>91320</td>\n",
       "      <td>NaN</td>\n",
       "      <td>NaN</td>\n",
       "      <td>0</td>\n",
       "      <td>X</td>\n",
       "      <td>NaN</td>\n",
       "      <td>NaN</td>\n",
       "      <td>NaN</td>\n",
       "      <td>...</td>\n",
       "      <td>S3F</td>\n",
       "      <td>L</td>\n",
       "      <td>F</td>\n",
       "      <td>X</td>\n",
       "      <td>X</td>\n",
       "      <td>X</td>\n",
       "      <td>A</td>\n",
       "      <td>C</td>\n",
       "      <td>1</td>\n",
       "      <td>None</td>\n",
       "    </tr>\n",
       "    <tr>\n",
       "      <th>95411</th>\n",
       "      <td>MCC</td>\n",
       "      <td>NC</td>\n",
       "      <td>28409</td>\n",
       "      <td>NaN</td>\n",
       "      <td>NaN</td>\n",
       "      <td>0</td>\n",
       "      <td>X</td>\n",
       "      <td>NaN</td>\n",
       "      <td>X</td>\n",
       "      <td>NaN</td>\n",
       "      <td>...</td>\n",
       "      <td>S3G</td>\n",
       "      <td>L</td>\n",
       "      <td>G</td>\n",
       "      <td>C</td>\n",
       "      <td>1</td>\n",
       "      <td>C</td>\n",
       "      <td>C</td>\n",
       "      <td>C</td>\n",
       "      <td>1</td>\n",
       "      <td>Y</td>\n",
       "    </tr>\n",
       "  </tbody>\n",
       "</table>\n",
       "<p>95412 rows × 76 columns</p>\n",
       "</div>"
      ],
      "text/plain": [
       "      OSOURCE STATE    ZIP MAILCODE PVASTATE NOEXCH RECINHSE RECP3 RECPGVG  \\\n",
       "0         GRI    IL  61081      NaN      NaN      0      NaN   NaN     NaN   \n",
       "1         BOA    CA  91326      NaN      NaN      0      NaN   NaN     NaN   \n",
       "2         AMH    NC  27017      NaN      NaN      0      NaN   NaN     NaN   \n",
       "3         BRY    CA  95953      NaN      NaN      0      NaN   NaN     NaN   \n",
       "4         NaN    FL  33176      NaN      NaN      0        X     X     NaN   \n",
       "...       ...   ...    ...      ...      ...    ...      ...   ...     ...   \n",
       "95407     ASE    AK  99504      NaN      NaN      0      NaN   NaN     NaN   \n",
       "95408     DCD    TX  77379      NaN      NaN      0      NaN   NaN     NaN   \n",
       "95409     MBC    MI  48910      NaN      NaN      0      NaN     X     NaN   \n",
       "95410     PRV    CA  91320      NaN      NaN      0        X   NaN     NaN   \n",
       "95411     MCC    NC  28409      NaN      NaN      0        X   NaN       X   \n",
       "\n",
       "      RECSWEEP  ... RFA_24 RFA_2R RFA_2A MDMAUD_R MDMAUD_F MDMAUD_A GEOCODE2  \\\n",
       "0          NaN  ...    S4E      L      E        X        X        X        C   \n",
       "1          NaN  ...    F1E      L      G        X        X        X        A   \n",
       "2          NaN  ...    S3D      L      E        X        X        X        C   \n",
       "3          NaN  ...    NaN      L      E        X        X        X        C   \n",
       "4          NaN  ...    A3D      L      F        X        X        X        A   \n",
       "...        ...  ...    ...    ...    ...      ...      ...      ...      ...   \n",
       "95407      NaN  ...    NaN      L      G        X        X        X        C   \n",
       "95408      NaN  ...    NaN      L      F        X        X        X        A   \n",
       "95409      NaN  ...    NaN      L      E        X        X        X        B   \n",
       "95410      NaN  ...    S3F      L      F        X        X        X        A   \n",
       "95411      NaN  ...    S3G      L      G        C        1        C        C   \n",
       "\n",
       "      DOMAIN_A DOMAIN_B TOP_DONORS  \n",
       "0            T        2       None  \n",
       "1            S        1       None  \n",
       "2            R        2       None  \n",
       "3            R        2       None  \n",
       "4            S        2       None  \n",
       "...        ...      ...        ...  \n",
       "95407        C        2       None  \n",
       "95408        C        1       None  \n",
       "95409        C        3       None  \n",
       "95410        C        1       None  \n",
       "95411        C        1          Y  \n",
       "\n",
       "[95412 rows x 76 columns]"
      ]
     },
     "execution_count": 40,
     "metadata": {},
     "output_type": "execute_result"
    }
   ],
   "source": [
    "df_cat"
   ]
  },
  {
   "cell_type": "code",
   "execution_count": 41,
   "id": "7f4bddb4",
   "metadata": {},
   "outputs": [
    {
     "data": {
      "text/plain": [
       "NaN    88709\n",
       "X       6703\n",
       "Name: RECINHSE, dtype: int64"
      ]
     },
     "execution_count": 41,
     "metadata": {},
     "output_type": "execute_result"
    }
   ],
   "source": [
    "df_cat['RECINHSE'].value_counts(dropna=False)"
   ]
  },
  {
   "cell_type": "code",
   "execution_count": 42,
   "id": "cdd006e8",
   "metadata": {
    "scrolled": true
   },
   "outputs": [
    {
     "data": {
      "text/plain": [
       "52"
      ]
     },
     "execution_count": 42,
     "metadata": {},
     "output_type": "execute_result"
    }
   ],
   "source": [
    "len(drop_list)"
   ]
  },
  {
   "cell_type": "code",
   "execution_count": 43,
   "id": "87d99641",
   "metadata": {},
   "outputs": [
    {
     "data": {
      "text/plain": [
       "(95412, 24)"
      ]
     },
     "execution_count": 43,
     "metadata": {},
     "output_type": "execute_result"
    }
   ],
   "source": [
    "df_cat=df_cat.drop(columns=drop_list)\n",
    "\n",
    "df_cat.shape"
   ]
  },
  {
   "cell_type": "code",
   "execution_count": 44,
   "id": "3f56c7e1",
   "metadata": {},
   "outputs": [],
   "source": [
    "# it´s just 7, i´m just dropping it\n",
    "df_cat['NOEXCH']=df_cat['NOEXCH'].dropna=True"
   ]
  },
  {
   "cell_type": "code",
   "execution_count": 45,
   "id": "3b14e322",
   "metadata": {},
   "outputs": [
    {
     "data": {
      "text/plain": [
       "E      57344\n",
       "NaN    29548\n",
       "I       8520\n",
       "Name: AGEFLAG, dtype: int64"
      ]
     },
     "execution_count": 45,
     "metadata": {},
     "output_type": "execute_result"
    }
   ],
   "source": [
    "df_cat['AGEFLAG'].value_counts(dropna=False)"
   ]
  },
  {
   "cell_type": "code",
   "execution_count": 46,
   "id": "4d22255f",
   "metadata": {},
   "outputs": [],
   "source": [
    "# fill with the most common \n",
    "df_cat['AGEFLAG'] = df_cat['AGEFLAG'].fillna('E')"
   ]
  },
  {
   "cell_type": "code",
   "execution_count": 47,
   "id": "34dc1756",
   "metadata": {},
   "outputs": [
    {
     "data": {
      "text/plain": [
       "NaN    81086\n",
       "Y      14326\n",
       "Name: PETS, dtype: int64"
      ]
     },
     "execution_count": 47,
     "metadata": {},
     "output_type": "execute_result"
    }
   ],
   "source": [
    "df_cat['PETS'].value_counts(dropna=False)"
   ]
  },
  {
   "cell_type": "code",
   "execution_count": 48,
   "id": "aab1f372",
   "metadata": {},
   "outputs": [],
   "source": [
    "# It´s yes or no for household pets. It should be no the Nans\n",
    "df_cat['PETS'] = df_cat['PETS'].fillna('N')"
   ]
  },
  {
   "cell_type": "code",
   "execution_count": 49,
   "id": "6a7e957d",
   "metadata": {},
   "outputs": [
    {
     "data": {
      "text/plain": [
       "NaN    54032\n",
       "2      20027\n",
       "3      11479\n",
       "1       9874\n",
       "Name: LIFESRC, dtype: int64"
      ]
     },
     "execution_count": 49,
     "metadata": {},
     "output_type": "execute_result"
    }
   ],
   "source": [
    "df_cat['LIFESRC'].value_counts(dropna=False)"
   ]
  },
  {
   "cell_type": "code",
   "execution_count": 50,
   "id": "32d4bb51",
   "metadata": {},
   "outputs": [],
   "source": [
    "# `LIFESRC` | LIFE STYLE DATA SOURCE <br /> Indicates source of the lifestyle variables listed above <br /> \n",
    "# 1=MATCHED ON METRO MAIL ONLY <br /> 2=MATCHED ON POLK ONLY <br /> 3=MATCHED BOTH MM AND POLK\n",
    "# It should be neither, thus fill with 0\n"
   ]
  },
  {
   "cell_type": "code",
   "execution_count": 51,
   "id": "ca7e0584",
   "metadata": {},
   "outputs": [],
   "source": [
    "df_cat['LIFESRC'] = df_cat['LIFESRC'].fillna(0)"
   ]
  },
  {
   "cell_type": "code",
   "execution_count": 52,
   "id": "39648e40",
   "metadata": {},
   "outputs": [
    {
     "data": {
      "text/plain": [
       "NaN    50143\n",
       "X      45269\n",
       "Name: PEPSTRFL, dtype: int64"
      ]
     },
     "execution_count": 52,
     "metadata": {},
     "output_type": "execute_result"
    }
   ],
   "source": [
    "df_cat['PEPSTRFL'].value_counts(dropna=False)"
   ]
  },
  {
   "cell_type": "code",
   "execution_count": 53,
   "id": "b3e8fbdc",
   "metadata": {},
   "outputs": [],
   "source": [
    "# `PEPSTRFL` | Indicates PEP Star RFA Status <br /> blank=Not considered to be a PEP Star <br /> 'X'=Has PEP Star RFA Status\n",
    "# nan should be does NOT have PEP star\n",
    "df_cat['PEPSTRFL'] = df_cat['PEPSTRFL'].fillna('N')\n",
    "# replace the X for Y to keep the standard\n",
    "df_cat['PEPSTRFL']=df_cat['PEPSTRFL'].str.replace('X','Y')"
   ]
  },
  {
   "cell_type": "code",
   "execution_count": 54,
   "id": "d9a6a635",
   "metadata": {
    "scrolled": true
   },
   "outputs": [
    {
     "data": {
      "text/plain": [
       "N    50143\n",
       "Y    45269\n",
       "Name: PEPSTRFL, dtype: int64"
      ]
     },
     "execution_count": 54,
     "metadata": {},
     "output_type": "execute_result"
    }
   ],
   "source": [
    "df_cat['PEPSTRFL'].value_counts(dropna=False)"
   ]
  },
  {
   "cell_type": "code",
   "execution_count": 55,
   "id": "145973ff",
   "metadata": {},
   "outputs": [
    {
     "data": {
      "text/plain": [
       "NaN    80168\n",
       "12      3914\n",
       "3       3327\n",
       "14      2017\n",
       "5       1918\n",
       "4       1622\n",
       "2       1408\n",
       "1       1038\n",
       "Name: GEOCODE, dtype: int64"
      ]
     },
     "execution_count": 55,
     "metadata": {},
     "output_type": "execute_result"
    }
   ],
   "source": [
    "df_cat['GEOCODE'].value_counts(dropna=False)"
   ]
  },
  {
   "cell_type": "code",
   "execution_count": 56,
   "id": "20d49a16",
   "metadata": {},
   "outputs": [],
   "source": [
    "df_cat['GEOCODE'] = df_cat['GEOCODE'].fillna('Not assigned')"
   ]
  },
  {
   "cell_type": "code",
   "execution_count": 57,
   "id": "11a8205f",
   "metadata": {},
   "outputs": [
    {
     "data": {
      "text/plain": [
       "STATE             0\n",
       "NOEXCH            0\n",
       "MDMAUD            0\n",
       "CLUSTER           0\n",
       "AGEFLAG           0\n",
       "HOMEOWNR          0\n",
       "GENDER            0\n",
       "DATASRCE          0\n",
       "MAJOR             0\n",
       "GEOCODE           0\n",
       "VETERANS          0\n",
       "BIBLE             0\n",
       "PETS              0\n",
       "LIFESRC           0\n",
       "PEPSTRFL          0\n",
       "RFA_2R            0\n",
       "RFA_2A            0\n",
       "MDMAUD_R          0\n",
       "MDMAUD_F          0\n",
       "MDMAUD_A          0\n",
       "GEOCODE2          0\n",
       "DOMAIN_A          0\n",
       "DOMAIN_B          0\n",
       "TOP_DONORS    95118\n",
       "dtype: int64"
      ]
     },
     "execution_count": 57,
     "metadata": {},
     "output_type": "execute_result"
    }
   ],
   "source": [
    "# Final check for nulls\n",
    "df_cat.isna().sum()"
   ]
  },
  {
   "cell_type": "markdown",
   "id": "41e00c7a",
   "metadata": {},
   "source": [
    "> All nulls cleaned and columns dropped for categoricals"
   ]
  },
  {
   "cell_type": "markdown",
   "id": "b4726bb6",
   "metadata": {},
   "source": [
    "## End of Lab 7.01"
   ]
  },
  {
   "cell_type": "code",
   "execution_count": 58,
   "id": "d615825d",
   "metadata": {},
   "outputs": [],
   "source": [
    "# Check for null values in the numerical columns and keeping the standard of dropping the columns with more then 85% nulls."
   ]
  },
  {
   "cell_type": "code",
   "execution_count": 59,
   "id": "8ce22ecf",
   "metadata": {},
   "outputs": [],
   "source": [
    "# Number of chil. if you look to it it has more than 85 % nulls, the percentage of no kids. I thought it is \n",
    "# better just to fill the NANs and keep the column because it can be relevant\n",
    "df_num['NUMCHLD'].value_counts(dropna=False)\n",
    "\n",
    "# filling with no kids = 0\n",
    "df_num['NUMCHLD']=df_num['NUMCHLD'].fillna(0)"
   ]
  },
  {
   "cell_type": "code",
   "execution_count": 60,
   "id": "e0a454db",
   "metadata": {},
   "outputs": [
    {
     "data": {
      "text/html": [
       "<div>\n",
       "<style scoped>\n",
       "    .dataframe tbody tr th:only-of-type {\n",
       "        vertical-align: middle;\n",
       "    }\n",
       "\n",
       "    .dataframe tbody tr th {\n",
       "        vertical-align: top;\n",
       "    }\n",
       "\n",
       "    .dataframe thead th {\n",
       "        text-align: right;\n",
       "    }\n",
       "</style>\n",
       "<table border=\"1\" class=\"dataframe\">\n",
       "  <thead>\n",
       "    <tr style=\"text-align: right;\">\n",
       "      <th></th>\n",
       "      <th>nulls</th>\n",
       "    </tr>\n",
       "  </thead>\n",
       "  <tbody>\n",
       "    <tr>\n",
       "      <th>ADATE_22</th>\n",
       "      <td>25648</td>\n",
       "    </tr>\n",
       "    <tr>\n",
       "      <th>ADATE_23</th>\n",
       "      <td>56270</td>\n",
       "    </tr>\n",
       "    <tr>\n",
       "      <th>ADATE_24</th>\n",
       "      <td>36973</td>\n",
       "    </tr>\n",
       "    <tr>\n",
       "      <th>RDATE_3</th>\n",
       "      <td>95170</td>\n",
       "    </tr>\n",
       "    <tr>\n",
       "      <th>RDATE_4</th>\n",
       "      <td>95131</td>\n",
       "    </tr>\n",
       "    <tr>\n",
       "      <th>RDATE_5</th>\n",
       "      <td>95403</td>\n",
       "    </tr>\n",
       "    <tr>\n",
       "      <th>RDATE_6</th>\n",
       "      <td>94636</td>\n",
       "    </tr>\n",
       "    <tr>\n",
       "      <th>RDATE_7</th>\n",
       "      <td>86517</td>\n",
       "    </tr>\n",
       "    <tr>\n",
       "      <th>RDATE_8</th>\n",
       "      <td>73940</td>\n",
       "    </tr>\n",
       "    <tr>\n",
       "      <th>RDATE_9</th>\n",
       "      <td>78678</td>\n",
       "    </tr>\n",
       "    <tr>\n",
       "      <th>RDATE_10</th>\n",
       "      <td>84951</td>\n",
       "    </tr>\n",
       "    <tr>\n",
       "      <th>RDATE_11</th>\n",
       "      <td>80672</td>\n",
       "    </tr>\n",
       "    <tr>\n",
       "      <th>RDATE_12</th>\n",
       "      <td>69712</td>\n",
       "    </tr>\n",
       "    <tr>\n",
       "      <th>RDATE_13</th>\n",
       "      <td>83162</td>\n",
       "    </tr>\n",
       "    <tr>\n",
       "      <th>RDATE_14</th>\n",
       "      <td>72095</td>\n",
       "    </tr>\n",
       "    <tr>\n",
       "      <th>RDATE_15</th>\n",
       "      <td>88150</td>\n",
       "    </tr>\n",
       "    <tr>\n",
       "      <th>RDATE_16</th>\n",
       "      <td>68418</td>\n",
       "    </tr>\n",
       "    <tr>\n",
       "      <th>RDATE_17</th>\n",
       "      <td>86011</td>\n",
       "    </tr>\n",
       "    <tr>\n",
       "      <th>RDATE_18</th>\n",
       "      <td>75634</td>\n",
       "    </tr>\n",
       "    <tr>\n",
       "      <th>RDATE_19</th>\n",
       "      <td>79535</td>\n",
       "    </tr>\n",
       "    <tr>\n",
       "      <th>RDATE_20</th>\n",
       "      <td>87524</td>\n",
       "    </tr>\n",
       "    <tr>\n",
       "      <th>RDATE_21</th>\n",
       "      <td>85899</td>\n",
       "    </tr>\n",
       "    <tr>\n",
       "      <th>RDATE_22</th>\n",
       "      <td>74539</td>\n",
       "    </tr>\n",
       "    <tr>\n",
       "      <th>RDATE_23</th>\n",
       "      <td>87553</td>\n",
       "    </tr>\n",
       "    <tr>\n",
       "      <th>RDATE_24</th>\n",
       "      <td>77674</td>\n",
       "    </tr>\n",
       "    <tr>\n",
       "      <th>RAMNT_3</th>\n",
       "      <td>95170</td>\n",
       "    </tr>\n",
       "    <tr>\n",
       "      <th>RAMNT_4</th>\n",
       "      <td>95131</td>\n",
       "    </tr>\n",
       "    <tr>\n",
       "      <th>RAMNT_5</th>\n",
       "      <td>95403</td>\n",
       "    </tr>\n",
       "    <tr>\n",
       "      <th>RAMNT_6</th>\n",
       "      <td>94636</td>\n",
       "    </tr>\n",
       "    <tr>\n",
       "      <th>RAMNT_7</th>\n",
       "      <td>86517</td>\n",
       "    </tr>\n",
       "    <tr>\n",
       "      <th>RAMNT_8</th>\n",
       "      <td>73940</td>\n",
       "    </tr>\n",
       "    <tr>\n",
       "      <th>RAMNT_9</th>\n",
       "      <td>78678</td>\n",
       "    </tr>\n",
       "    <tr>\n",
       "      <th>RAMNT_10</th>\n",
       "      <td>84951</td>\n",
       "    </tr>\n",
       "    <tr>\n",
       "      <th>RAMNT_11</th>\n",
       "      <td>80672</td>\n",
       "    </tr>\n",
       "    <tr>\n",
       "      <th>RAMNT_12</th>\n",
       "      <td>69712</td>\n",
       "    </tr>\n",
       "    <tr>\n",
       "      <th>RAMNT_13</th>\n",
       "      <td>83162</td>\n",
       "    </tr>\n",
       "    <tr>\n",
       "      <th>RAMNT_14</th>\n",
       "      <td>72095</td>\n",
       "    </tr>\n",
       "    <tr>\n",
       "      <th>RAMNT_15</th>\n",
       "      <td>88150</td>\n",
       "    </tr>\n",
       "    <tr>\n",
       "      <th>RAMNT_16</th>\n",
       "      <td>68418</td>\n",
       "    </tr>\n",
       "    <tr>\n",
       "      <th>RAMNT_17</th>\n",
       "      <td>86011</td>\n",
       "    </tr>\n",
       "    <tr>\n",
       "      <th>RAMNT_18</th>\n",
       "      <td>75634</td>\n",
       "    </tr>\n",
       "    <tr>\n",
       "      <th>RAMNT_19</th>\n",
       "      <td>79535</td>\n",
       "    </tr>\n",
       "    <tr>\n",
       "      <th>RAMNT_20</th>\n",
       "      <td>87524</td>\n",
       "    </tr>\n",
       "    <tr>\n",
       "      <th>RAMNT_21</th>\n",
       "      <td>85899</td>\n",
       "    </tr>\n",
       "    <tr>\n",
       "      <th>RAMNT_22</th>\n",
       "      <td>74539</td>\n",
       "    </tr>\n",
       "    <tr>\n",
       "      <th>RAMNT_23</th>\n",
       "      <td>87553</td>\n",
       "    </tr>\n",
       "    <tr>\n",
       "      <th>RAMNT_24</th>\n",
       "      <td>77674</td>\n",
       "    </tr>\n",
       "    <tr>\n",
       "      <th>NEXTDATE</th>\n",
       "      <td>9973</td>\n",
       "    </tr>\n",
       "    <tr>\n",
       "      <th>TIMELAG</th>\n",
       "      <td>9973</td>\n",
       "    </tr>\n",
       "    <tr>\n",
       "      <th>CLUSTER2</th>\n",
       "      <td>132</td>\n",
       "    </tr>\n",
       "  </tbody>\n",
       "</table>\n",
       "</div>"
      ],
      "text/plain": [
       "          nulls\n",
       "ADATE_22  25648\n",
       "ADATE_23  56270\n",
       "ADATE_24  36973\n",
       "RDATE_3   95170\n",
       "RDATE_4   95131\n",
       "RDATE_5   95403\n",
       "RDATE_6   94636\n",
       "RDATE_7   86517\n",
       "RDATE_8   73940\n",
       "RDATE_9   78678\n",
       "RDATE_10  84951\n",
       "RDATE_11  80672\n",
       "RDATE_12  69712\n",
       "RDATE_13  83162\n",
       "RDATE_14  72095\n",
       "RDATE_15  88150\n",
       "RDATE_16  68418\n",
       "RDATE_17  86011\n",
       "RDATE_18  75634\n",
       "RDATE_19  79535\n",
       "RDATE_20  87524\n",
       "RDATE_21  85899\n",
       "RDATE_22  74539\n",
       "RDATE_23  87553\n",
       "RDATE_24  77674\n",
       "RAMNT_3   95170\n",
       "RAMNT_4   95131\n",
       "RAMNT_5   95403\n",
       "RAMNT_6   94636\n",
       "RAMNT_7   86517\n",
       "RAMNT_8   73940\n",
       "RAMNT_9   78678\n",
       "RAMNT_10  84951\n",
       "RAMNT_11  80672\n",
       "RAMNT_12  69712\n",
       "RAMNT_13  83162\n",
       "RAMNT_14  72095\n",
       "RAMNT_15  88150\n",
       "RAMNT_16  68418\n",
       "RAMNT_17  86011\n",
       "RAMNT_18  75634\n",
       "RAMNT_19  79535\n",
       "RAMNT_20  87524\n",
       "RAMNT_21  85899\n",
       "RAMNT_22  74539\n",
       "RAMNT_23  87553\n",
       "RAMNT_24  77674\n",
       "NEXTDATE   9973\n",
       "TIMELAG    9973\n",
       "CLUSTER2    132"
      ]
     },
     "execution_count": 60,
     "metadata": {},
     "output_type": "execute_result"
    }
   ],
   "source": [
    "nulls_percent_df2 = pd.DataFrame(df_num.isna().sum()/len(df_num)).reset_index()\n",
    "nulls_percent_df2.columns = ['column_name', 'nulls_percentage']\n",
    "#nulls_percent_df2[nulls_percent_df2['nulls_percentage']!=0].head(60)\n",
    "null_list=pd.DataFrame(df_num.isna().sum(), columns=['nulls'])\n",
    "null_list[null_list['nulls']!=0].tail(50)"
   ]
  },
  {
   "cell_type": "code",
   "execution_count": 61,
   "id": "49b58139",
   "metadata": {},
   "outputs": [
    {
     "data": {
      "text/plain": [
       "(95412, 407)"
      ]
     },
     "execution_count": 61,
     "metadata": {},
     "output_type": "execute_result"
    }
   ],
   "source": [
    "df_num.shape"
   ]
  },
  {
   "cell_type": "code",
   "execution_count": 62,
   "id": "15b1377b",
   "metadata": {},
   "outputs": [
    {
     "name": "stdout",
     "output_type": "stream",
     "text": [
      "['RDATE_3', 'RDATE_4', 'RDATE_5', 'RDATE_6', 'RDATE_7', 'RDATE_10', 'RDATE_13', 'RDATE_15', 'RDATE_17', 'RDATE_20', 'RDATE_21', 'RDATE_23', 'RAMNT_3', 'RAMNT_4', 'RAMNT_5', 'RAMNT_6', 'RAMNT_7', 'RAMNT_10', 'RAMNT_13', 'RAMNT_15', 'RAMNT_17', 'RAMNT_20', 'RAMNT_21', 'RAMNT_23']\n"
     ]
    }
   ],
   "source": [
    "columns_above_threshold_2 = nulls_percent_df2[nulls_percent_df2['nulls_percentage']>0.85]\n",
    "drop_columns_list_2 = list(columns_above_threshold_2['column_name'])\n",
    "print(drop_columns_list_2)"
   ]
  },
  {
   "cell_type": "code",
   "execution_count": 63,
   "id": "e9277abf",
   "metadata": {},
   "outputs": [],
   "source": [
    "df_num=df_num.drop(columns=drop_columns_list_2)"
   ]
  },
  {
   "cell_type": "code",
   "execution_count": 64,
   "id": "1ed4ca6e",
   "metadata": {},
   "outputs": [
    {
     "data": {
      "text/plain": [
       "(95412, 383)"
      ]
     },
     "execution_count": 64,
     "metadata": {},
     "output_type": "execute_result"
    }
   ],
   "source": [
    "df_num.shape"
   ]
  },
  {
   "cell_type": "code",
   "execution_count": 65,
   "id": "2dbaf679",
   "metadata": {},
   "outputs": [],
   "source": [
    "# `WEALTH1` | Wealth Rating"
   ]
  },
  {
   "cell_type": "code",
   "execution_count": 66,
   "id": "2a5fb273",
   "metadata": {
    "scrolled": false
   },
   "outputs": [
    {
     "data": {
      "text/plain": [
       "NaN    44732\n",
       "9.0     7585\n",
       "8.0     6793\n",
       "7.0     6198\n",
       "6.0     5825\n",
       "5.0     5280\n",
       "4.0     4810\n",
       "3.0     4237\n",
       "2.0     4085\n",
       "1.0     3454\n",
       "0.0     2413\n",
       "Name: WEALTH1, dtype: int64"
      ]
     },
     "execution_count": 66,
     "metadata": {},
     "output_type": "execute_result"
    }
   ],
   "source": [
    "df_num['WEALTH1'].value_counts(dropna=False)"
   ]
  },
  {
   "cell_type": "code",
   "execution_count": 67,
   "id": "5a5ffa2f",
   "metadata": {},
   "outputs": [
    {
     "data": {
      "text/plain": [
       "NaN    43823\n",
       "9.0     6523\n",
       "8.0     5975\n",
       "7.0     5684\n",
       "6.0     5497\n",
       "5.0     5351\n",
       "4.0     5074\n",
       "3.0     5046\n",
       "2.0     4971\n",
       "1.0     4191\n",
       "0.0     3277\n",
       "Name: WEALTH2, dtype: int64"
      ]
     },
     "execution_count": 67,
     "metadata": {},
     "output_type": "execute_result"
    }
   ],
   "source": [
    "df_num['WEALTH2'].value_counts(dropna=False)"
   ]
  },
  {
   "cell_type": "code",
   "execution_count": 68,
   "id": "a77f4a45",
   "metadata": {},
   "outputs": [],
   "source": [
    "# both columns are the same. filling with the mean\n",
    "#numerical['WEALTH1'] = numerical['WEALTH1'].astype('object')\n",
    "df_num['WEALTH1'] = df_num['WEALTH1'].fillna(np.mean)\n",
    "#numerical['WEALTH2'] = numerical['WEALTH2'].astype('object')\n",
    "df_num['WEALTH2'] = df_num['WEALTH2'].fillna(np.mean)"
   ]
  },
  {
   "cell_type": "code",
   "execution_count": 69,
   "id": "5267fdb7",
   "metadata": {},
   "outputs": [
    {
     "data": {
      "text/plain": [
       "ODATEDW         0\n",
       "TCODE           0\n",
       "DOB             0\n",
       "AGE         23665\n",
       "NUMCHLD         0\n",
       "            ...  \n",
       "TARGET_B        0\n",
       "TARGET_D        0\n",
       "HPHONE_D        0\n",
       "RFA_2F          0\n",
       "CLUSTER2      132\n",
       "Length: 383, dtype: int64"
      ]
     },
     "execution_count": 69,
     "metadata": {},
     "output_type": "execute_result"
    }
   ],
   "source": [
    "df_num.isna().sum()"
   ]
  },
  {
   "cell_type": "code",
   "execution_count": 70,
   "id": "9b6741d3",
   "metadata": {},
   "outputs": [
    {
     "data": {
      "text/plain": [
       "NaN     23665\n",
       "50.0     1930\n",
       "76.0     1885\n",
       "72.0     1813\n",
       "68.0     1809\n",
       "        ...  \n",
       "9.0         1\n",
       "6.0         1\n",
       "10.0        1\n",
       "8.0         1\n",
       "15.0        1\n",
       "Name: AGE, Length: 97, dtype: int64"
      ]
     },
     "execution_count": 70,
     "metadata": {},
     "output_type": "execute_result"
    }
   ],
   "source": [
    "df_num['AGE'].value_counts(dropna=False)"
   ]
  },
  {
   "cell_type": "code",
   "execution_count": 71,
   "id": "f7344f3f",
   "metadata": {},
   "outputs": [],
   "source": [
    "# filling with mean\n",
    "df_num['AGE'] = df_num[\"AGE\"].fillna(np.mean(df_num['AGE']))"
   ]
  },
  {
   "cell_type": "code",
   "execution_count": 72,
   "id": "bf75cce0",
   "metadata": {},
   "outputs": [],
   "source": [
    "# GEOCODE2 was done before. dealing with columns asked on the Lab."
   ]
  },
  {
   "cell_type": "code",
   "execution_count": 73,
   "id": "7f6e7741",
   "metadata": {
    "scrolled": true
   },
   "outputs": [
    {
     "data": {
      "text/plain": [
       "13.0     7296\n",
       "51.0     4622\n",
       "65.0     3765\n",
       "57.0     2836\n",
       "105.0    2617\n",
       "         ... \n",
       "651.0       1\n",
       "103.0       1\n",
       "601.0       1\n",
       "161.0       1\n",
       "147.0       1\n",
       "Name: ADI, Length: 205, dtype: int64"
      ]
     },
     "execution_count": 73,
     "metadata": {},
     "output_type": "execute_result"
    }
   ],
   "source": [
    "df_num['ADI'].value_counts(dropna=False)"
   ]
  },
  {
   "cell_type": "code",
   "execution_count": 74,
   "id": "bfe78a73",
   "metadata": {
    "scrolled": true
   },
   "outputs": [
    {
     "data": {
      "text/plain": [
       "803.0    7296\n",
       "602.0    4632\n",
       "807.0    3765\n",
       "505.0    2839\n",
       "819.0    2588\n",
       "         ... \n",
       "569.0       1\n",
       "554.0       1\n",
       "584.0       1\n",
       "552.0       1\n",
       "516.0       1\n",
       "Name: DMA, Length: 207, dtype: int64"
      ]
     },
     "execution_count": 74,
     "metadata": {},
     "output_type": "execute_result"
    }
   ],
   "source": [
    "df_num['DMA'].value_counts(dropna=False)"
   ]
  },
  {
   "cell_type": "code",
   "execution_count": 75,
   "id": "749ddc57",
   "metadata": {
    "scrolled": false
   },
   "outputs": [
    {
     "data": {
      "text/plain": [
       "0.0       21333\n",
       "4480.0     4606\n",
       "1600.0     4059\n",
       "2160.0     2586\n",
       "520.0      1685\n",
       "          ...  \n",
       "9140.0        1\n",
       "3200.0        1\n",
       "9280.0        1\n",
       "743.0         1\n",
       "8480.0        1\n",
       "Name: MSA, Length: 299, dtype: int64"
      ]
     },
     "execution_count": 75,
     "metadata": {},
     "output_type": "execute_result"
    }
   ],
   "source": [
    " df_num['MSA'].value_counts(dropna=False)   "
   ]
  },
  {
   "cell_type": "code",
   "execution_count": 76,
   "id": "b4bcbcfb",
   "metadata": {},
   "outputs": [],
   "source": [
    "# grouping them columns to better inspect\n",
    "df_num_sorted = df_num[['MSA', 'DMA', 'ADI']]\n"
   ]
  },
  {
   "cell_type": "code",
   "execution_count": 77,
   "id": "e2d03665",
   "metadata": {
    "scrolled": true
   },
   "outputs": [
    {
     "data": {
      "text/html": [
       "<div>\n",
       "<style scoped>\n",
       "    .dataframe tbody tr th:only-of-type {\n",
       "        vertical-align: middle;\n",
       "    }\n",
       "\n",
       "    .dataframe tbody tr th {\n",
       "        vertical-align: top;\n",
       "    }\n",
       "\n",
       "    .dataframe thead th {\n",
       "        text-align: right;\n",
       "    }\n",
       "</style>\n",
       "<table border=\"1\" class=\"dataframe\">\n",
       "  <thead>\n",
       "    <tr style=\"text-align: right;\">\n",
       "      <th></th>\n",
       "      <th>MSA</th>\n",
       "      <th>DMA</th>\n",
       "      <th>ADI</th>\n",
       "    </tr>\n",
       "  </thead>\n",
       "  <tbody>\n",
       "    <tr>\n",
       "      <th>0</th>\n",
       "      <td>0.0</td>\n",
       "      <td>682.0</td>\n",
       "      <td>177.0</td>\n",
       "    </tr>\n",
       "    <tr>\n",
       "      <th>1</th>\n",
       "      <td>4480.0</td>\n",
       "      <td>803.0</td>\n",
       "      <td>13.0</td>\n",
       "    </tr>\n",
       "    <tr>\n",
       "      <th>2</th>\n",
       "      <td>0.0</td>\n",
       "      <td>518.0</td>\n",
       "      <td>281.0</td>\n",
       "    </tr>\n",
       "    <tr>\n",
       "      <th>3</th>\n",
       "      <td>9340.0</td>\n",
       "      <td>862.0</td>\n",
       "      <td>67.0</td>\n",
       "    </tr>\n",
       "    <tr>\n",
       "      <th>4</th>\n",
       "      <td>5000.0</td>\n",
       "      <td>528.0</td>\n",
       "      <td>127.0</td>\n",
       "    </tr>\n",
       "    <tr>\n",
       "      <th>...</th>\n",
       "      <td>...</td>\n",
       "      <td>...</td>\n",
       "      <td>...</td>\n",
       "    </tr>\n",
       "    <tr>\n",
       "      <th>95407</th>\n",
       "      <td>380.0</td>\n",
       "      <td>743.0</td>\n",
       "      <td>0.0</td>\n",
       "    </tr>\n",
       "    <tr>\n",
       "      <th>95408</th>\n",
       "      <td>3360.0</td>\n",
       "      <td>618.0</td>\n",
       "      <td>201.0</td>\n",
       "    </tr>\n",
       "    <tr>\n",
       "      <th>95409</th>\n",
       "      <td>4040.0</td>\n",
       "      <td>551.0</td>\n",
       "      <td>61.0</td>\n",
       "    </tr>\n",
       "    <tr>\n",
       "      <th>95410</th>\n",
       "      <td>8735.0</td>\n",
       "      <td>803.0</td>\n",
       "      <td>13.0</td>\n",
       "    </tr>\n",
       "    <tr>\n",
       "      <th>95411</th>\n",
       "      <td>9200.0</td>\n",
       "      <td>550.0</td>\n",
       "      <td>355.0</td>\n",
       "    </tr>\n",
       "  </tbody>\n",
       "</table>\n",
       "<p>95412 rows × 3 columns</p>\n",
       "</div>"
      ],
      "text/plain": [
       "          MSA    DMA    ADI\n",
       "0         0.0  682.0  177.0\n",
       "1      4480.0  803.0   13.0\n",
       "2         0.0  518.0  281.0\n",
       "3      9340.0  862.0   67.0\n",
       "4      5000.0  528.0  127.0\n",
       "...       ...    ...    ...\n",
       "95407   380.0  743.0    0.0\n",
       "95408  3360.0  618.0  201.0\n",
       "95409  4040.0  551.0   61.0\n",
       "95410  8735.0  803.0   13.0\n",
       "95411  9200.0  550.0  355.0\n",
       "\n",
       "[95412 rows x 3 columns]"
      ]
     },
     "execution_count": 77,
     "metadata": {},
     "output_type": "execute_result"
    }
   ],
   "source": [
    "df_num_sorted"
   ]
  },
  {
   "cell_type": "code",
   "execution_count": 78,
   "id": "3e40c6ff",
   "metadata": {},
   "outputs": [
    {
     "name": "stderr",
     "output_type": "stream",
     "text": [
      "C:\\Users\\sabba\\anaconda3\\lib\\site-packages\\seaborn\\distributions.py:2619: FutureWarning: `distplot` is a deprecated function and will be removed in a future version. Please adapt your code to use either `displot` (a figure-level function with similar flexibility) or `histplot` (an axes-level function for histograms).\n",
      "  warnings.warn(msg, FutureWarning)\n"
     ]
    },
    {
     "data": {
      "image/png": "[encoded data removed]",
      "text/plain": [
       "<Figure size 640x480 with 1 Axes>"
      ]
     },
     "metadata": {},
     "output_type": "display_data"
    }
   ],
   "source": [
    "import matplotlib.pyplot as plt\n",
    "import seaborn as sns \n",
    "sns.distplot(df_num[df_num['MSA'].isna()==False]['MSA']) \n",
    "plt.show()"
   ]
  },
  {
   "cell_type": "code",
   "execution_count": 79,
   "id": "f00a373b",
   "metadata": {},
   "outputs": [],
   "source": [
    "# they all seem to follow the same pattern.\n",
    "# Replacing all 0 values in MSA, DMA, and ADI columns with the corresponding column mean\n",
    "for col in ['MSA', 'DMA', 'ADI']:\n",
    "    df_num[col] = df_num[col].replace(0, df_num[col].mean())"
   ]
  },
  {
   "cell_type": "code",
   "execution_count": 80,
   "id": "e37fcd75",
   "metadata": {},
   "outputs": [
    {
     "data": {
      "text/plain": [
       "3527.744102    21333\n",
       "4480.000000     4606\n",
       "1600.000000     4059\n",
       "2160.000000     2586\n",
       "520.000000      1685\n",
       "               ...  \n",
       "9140.000000        1\n",
       "3200.000000        1\n",
       "9280.000000        1\n",
       "743.000000         1\n",
       "8480.000000        1\n",
       "Name: MSA, Length: 299, dtype: int64"
      ]
     },
     "execution_count": 80,
     "metadata": {},
     "output_type": "execute_result"
    }
   ],
   "source": [
    " df_num['MSA'].value_counts(dropna=False)"
   ]
  },
  {
   "cell_type": "code",
   "execution_count": 81,
   "id": "87db9cc7",
   "metadata": {
    "scrolled": true
   },
   "outputs": [
    {
     "name": "stderr",
     "output_type": "stream",
     "text": [
      "C:\\Users\\sabba\\anaconda3\\lib\\site-packages\\seaborn\\distributions.py:2619: FutureWarning: `distplot` is a deprecated function and will be removed in a future version. Please adapt your code to use either `displot` (a figure-level function with similar flexibility) or `histplot` (an axes-level function for histograms).\n",
      "  warnings.warn(msg, FutureWarning)\n"
     ]
    },
    {
     "data": {
      "image/png": "[encoded data removed]",
      "text/plain": [
       "<Figure size 640x480 with 1 Axes>"
      ]
     },
     "metadata": {},
     "output_type": "display_data"
    }
   ],
   "source": [
    "sns.distplot(df_num[df_num['MSA'].isna()==False]['MSA']) \n",
    "plt.show()"
   ]
  },
  {
   "cell_type": "code",
   "execution_count": 82,
   "id": "e8aae7af",
   "metadata": {},
   "outputs": [
    {
     "data": {
      "text/plain": [
       "MSA    132\n",
       "DMA    132\n",
       "ADI    132\n",
       "dtype: int64"
      ]
     },
     "execution_count": 82,
     "metadata": {},
     "output_type": "execute_result"
    }
   ],
   "source": [
    "df_num_sorted.isna().sum()"
   ]
  },
  {
   "cell_type": "code",
   "execution_count": 83,
   "id": "1243136e",
   "metadata": {},
   "outputs": [],
   "source": [
    "cols_to_clean = ['MSA', 'DMA', 'ADI']\n",
    "df_num.dropna(subset=cols_to_clean, inplace=True)"
   ]
  },
  {
   "cell_type": "code",
   "execution_count": 84,
   "id": "a86b1c5d",
   "metadata": {},
   "outputs": [],
   "source": [
    "# transform into categoricals at some point\n",
    "#numerical.RFA_2F.value_counts()"
   ]
  },
  {
   "cell_type": "code",
   "execution_count": 85,
   "id": "c84aba29",
   "metadata": {},
   "outputs": [],
   "source": [
    "# droping ADATE column\n",
    "for col in df_num.columns:\n",
    "    if 'ADATE' in col:\n",
    "        df_num=df_num.drop(columns=col)"
   ]
  },
  {
   "cell_type": "code",
   "execution_count": 86,
   "id": "3ee15eea",
   "metadata": {},
   "outputs": [
    {
     "name": "stderr",
     "output_type": "stream",
     "text": [
      "C:\\Users\\sabba\\anaconda3\\lib\\site-packages\\seaborn\\distributions.py:2619: FutureWarning: `distplot` is a deprecated function and will be removed in a future version. Please adapt your code to use either `displot` (a figure-level function with similar flexibility) or `histplot` (an axes-level function for histograms).\n",
      "  warnings.warn(msg, FutureWarning)\n"
     ]
    },
    {
     "data": {
      "image/png": "[encoded data removed]",
      "text/plain": [
       "<Figure size 640x480 with 1 Axes>"
      ]
     },
     "metadata": {},
     "output_type": "display_data"
    }
   ],
   "source": [
    "# column income\n",
    "sns.distplot(df_num['INCOME']) \n",
    "plt.show()"
   ]
  },
  {
   "cell_type": "code",
   "execution_count": 87,
   "id": "c45323b3",
   "metadata": {},
   "outputs": [
    {
     "name": "stdout",
     "output_type": "stream",
     "text": [
      "NaN    21228\n",
      "5.0    15429\n",
      "2.0    13095\n",
      "4.0    12722\n",
      "1.0     9013\n",
      "3.0     8553\n",
      "6.0     7775\n",
      "7.0     7465\n",
      "Name: INCOME, dtype: int64\n"
     ]
    }
   ],
   "source": [
    "print(df_num['INCOME'].value_counts(dropna=False))"
   ]
  },
  {
   "cell_type": "code",
   "execution_count": 88,
   "id": "5c75e68c",
   "metadata": {},
   "outputs": [],
   "source": [
    "df_num['INCOME'] = df_num['INCOME'].astype(object)\n",
    "df_num['INCOME'] = df_num['INCOME'].fillna(5.0)"
   ]
  },
  {
   "cell_type": "code",
   "execution_count": 89,
   "id": "bd6ee3e4",
   "metadata": {},
   "outputs": [
    {
     "name": "stderr",
     "output_type": "stream",
     "text": [
      "C:\\Users\\sabba\\anaconda3\\lib\\site-packages\\seaborn\\distributions.py:2619: FutureWarning: `distplot` is a deprecated function and will be removed in a future version. Please adapt your code to use either `displot` (a figure-level function with similar flexibility) or `histplot` (an axes-level function for histograms).\n",
      "  warnings.warn(msg, FutureWarning)\n"
     ]
    },
    {
     "data": {
      "image/png": "[encoded data removed]",
      "text/plain": [
       "<Figure size 640x480 with 1 Axes>"
      ]
     },
     "metadata": {},
     "output_type": "display_data"
    }
   ],
   "source": [
    "sns.distplot(df_num['INCOME']) \n",
    "plt.show()"
   ]
  },
  {
   "cell_type": "code",
   "execution_count": 90,
   "id": "e0e0c172",
   "metadata": {},
   "outputs": [
    {
     "name": "stderr",
     "output_type": "stream",
     "text": [
      "C:\\Users\\sabba\\anaconda3\\lib\\site-packages\\seaborn\\distributions.py:2619: FutureWarning: `distplot` is a deprecated function and will be removed in a future version. Please adapt your code to use either `displot` (a figure-level function with similar flexibility) or `histplot` (an axes-level function for histograms).\n",
      "  warnings.warn(msg, FutureWarning)\n"
     ]
    },
    {
     "data": {
      "image/png": "[encoded data removed]",
      "text/plain": [
       "<Figure size 640x480 with 1 Axes>"
      ]
     },
     "metadata": {},
     "output_type": "display_data"
    }
   ],
   "source": [
    "sns.distplot(df_num[df_num['CLUSTER2'].isna()==False]['CLUSTER2']) \n",
    "plt.show()"
   ]
  },
  {
   "cell_type": "code",
   "execution_count": 91,
   "id": "318e128e",
   "metadata": {},
   "outputs": [
    {
     "data": {
      "text/plain": [
       "13.0    3466\n",
       "5.0     3154\n",
       "57.0    2666\n",
       "59.0    2653\n",
       "15.0    2559\n",
       "        ... \n",
       "30.0     647\n",
       "46.0     644\n",
       "29.0     569\n",
       "40.0     369\n",
       "6.0      211\n",
       "Name: CLUSTER2, Length: 62, dtype: int64"
      ]
     },
     "execution_count": 91,
     "metadata": {},
     "output_type": "execute_result"
    }
   ],
   "source": [
    "df_num['CLUSTER2'].value_counts(dropna=False)"
   ]
  },
  {
   "cell_type": "code",
   "execution_count": 92,
   "id": "3eafc05c",
   "metadata": {},
   "outputs": [
    {
     "name": "stderr",
     "output_type": "stream",
     "text": [
      "C:\\Users\\sabba\\anaconda3\\lib\\site-packages\\seaborn\\distributions.py:2619: FutureWarning: `distplot` is a deprecated function and will be removed in a future version. Please adapt your code to use either `displot` (a figure-level function with similar flexibility) or `histplot` (an axes-level function for histograms).\n",
      "  warnings.warn(msg, FutureWarning)\n"
     ]
    },
    {
     "data": {
      "image/png": "[encoded data removed]",
      "text/plain": [
       "<Figure size 640x480 with 1 Axes>"
      ]
     },
     "metadata": {},
     "output_type": "display_data"
    }
   ],
   "source": [
    "\n",
    "df_num['CLUSTER2'] = df_num['CLUSTER2'].fillna(np.ceil(np.mean(df_num['CLUSTER2'])))\n",
    "\n",
    "sns.distplot(df_num['CLUSTER2']) \n",
    "plt.show()"
   ]
  },
  {
   "cell_type": "code",
   "execution_count": 93,
   "id": "148d4ff7",
   "metadata": {},
   "outputs": [
    {
     "data": {
      "text/plain": [
       "13.0    3466\n",
       "5.0     3154\n",
       "57.0    2666\n",
       "59.0    2653\n",
       "15.0    2559\n",
       "        ... \n",
       "30.0     647\n",
       "46.0     644\n",
       "29.0     569\n",
       "40.0     369\n",
       "6.0      211\n",
       "Name: CLUSTER2, Length: 62, dtype: int64"
      ]
     },
     "execution_count": 93,
     "metadata": {},
     "output_type": "execute_result"
    }
   ],
   "source": [
    "df_num['CLUSTER2'].value_counts(dropna=False)"
   ]
  },
  {
   "cell_type": "code",
   "execution_count": 94,
   "id": "2fca9220",
   "metadata": {},
   "outputs": [],
   "source": [
    "# TIMELAG"
   ]
  },
  {
   "cell_type": "code",
   "execution_count": 95,
   "id": "0228007e",
   "metadata": {},
   "outputs": [
    {
     "data": {
      "text/plain": [
       "8"
      ]
     },
     "execution_count": 95,
     "metadata": {},
     "output_type": "execute_result"
    }
   ],
   "source": [
    "timelag= int(np.mean(df_num[df_num['TIMELAG'] != np.NaN]['TIMELAG']))\n",
    "timelag"
   ]
  },
  {
   "cell_type": "code",
   "execution_count": 96,
   "id": "9b256ba9",
   "metadata": {},
   "outputs": [],
   "source": [
    "def clean_timelag(x):\n",
    "    if x > 30:\n",
    "        return timelag\n",
    "    else:\n",
    "        return x"
   ]
  },
  {
   "cell_type": "code",
   "execution_count": 97,
   "id": "227a7156",
   "metadata": {},
   "outputs": [
    {
     "data": {
      "text/plain": [
       "0"
      ]
     },
     "execution_count": 97,
     "metadata": {},
     "output_type": "execute_result"
    }
   ],
   "source": [
    "df_num['TIMELAG'].fillna(timelag, inplace=True)\n",
    "df_num['TIMELAG'] = df_num['TIMELAG'].apply(clean_timelag)\n",
    "df_num['TIMELAG'].isna().sum()"
   ]
  },
  {
   "cell_type": "code",
   "execution_count": 98,
   "id": "28eb9ed2",
   "metadata": {},
   "outputs": [],
   "source": [
    "# RDATE"
   ]
  },
  {
   "cell_type": "code",
   "execution_count": 99,
   "id": "57412ba8",
   "metadata": {},
   "outputs": [],
   "source": [
    "for col in df_num.columns:\n",
    "    if 'RDATE' in col:\n",
    "        df_num=df_num.drop(columns=[col])"
   ]
  },
  {
   "cell_type": "code",
   "execution_count": 100,
   "id": "29c1270c",
   "metadata": {},
   "outputs": [],
   "source": [
    "# RAMNTs"
   ]
  },
  {
   "cell_type": "code",
   "execution_count": 101,
   "id": "f41ad94d",
   "metadata": {},
   "outputs": [
    {
     "data": {
      "text/plain": [
       "NaN      73839\n",
       "15.00     3564\n",
       "10.00     3384\n",
       "20.00     3117\n",
       "25.00     1834\n",
       "         ...  \n",
       "5.40         1\n",
       "31.65        1\n",
       "30.91        1\n",
       "1.92         1\n",
       "12.94        1\n",
       "Name: RAMNT_8, Length: 109, dtype: int64"
      ]
     },
     "execution_count": 101,
     "metadata": {},
     "output_type": "execute_result"
    }
   ],
   "source": [
    "df_num['RAMNT_8'].value_counts(dropna=False)"
   ]
  },
  {
   "cell_type": "code",
   "execution_count": 102,
   "id": "53f9c1da",
   "metadata": {},
   "outputs": [
    {
     "data": {
      "text/plain": [
       "NaN       80559\n",
       "10.00      2697\n",
       "15.00      2025\n",
       "20.00      1894\n",
       "5.00       1762\n",
       "          ...  \n",
       "101.00        1\n",
       "77.00         1\n",
       "140.00        1\n",
       "34.68         1\n",
       "200.00        1\n",
       "Name: RAMNT_11, Length: 83, dtype: int64"
      ]
     },
     "execution_count": 102,
     "metadata": {},
     "output_type": "execute_result"
    }
   ],
   "source": [
    "df_num['RAMNT_11'].value_counts(dropna=False)"
   ]
  },
  {
   "cell_type": "code",
   "execution_count": 103,
   "id": "26d385bb",
   "metadata": {},
   "outputs": [],
   "source": [
    "# they are pretty much all the same. dropping all but the first one and then filling Nan with 0.\n",
    "for x in df_num.columns:\n",
    "    if x == 'RAMNT_8':\n",
    "        pass\n",
    "    elif 'RAMNT' in x:\n",
    "        df_num=df_num.drop(columns=[x])"
   ]
  },
  {
   "cell_type": "code",
   "execution_count": 104,
   "id": "4f6861b2",
   "metadata": {},
   "outputs": [],
   "source": [
    "df_num['RAMNT_8'].fillna(0, inplace=True)"
   ]
  },
  {
   "cell_type": "code",
   "execution_count": 105,
   "id": "63df2c3f",
   "metadata": {},
   "outputs": [
    {
     "data": {
      "text/plain": [
       "0"
      ]
     },
     "execution_count": 105,
     "metadata": {},
     "output_type": "execute_result"
    }
   ],
   "source": [
    "df_num['RAMNT_8'].isna().sum()"
   ]
  },
  {
   "cell_type": "code",
   "execution_count": 106,
   "id": "9ecec16f",
   "metadata": {},
   "outputs": [
    {
     "data": {
      "text/plain": [
       "NaN       9961\n",
       "9504.0    2251\n",
       "9412.0    1968\n",
       "8703.0    1956\n",
       "9512.0    1866\n",
       "          ... \n",
       "8107.0       1\n",
       "7408.0       1\n",
       "8207.0       1\n",
       "8104.0       1\n",
       "8412.0       1\n",
       "Name: NEXTDATE, Length: 189, dtype: int64"
      ]
     },
     "execution_count": 106,
     "metadata": {},
     "output_type": "execute_result"
    }
   ],
   "source": [
    "# NEXTDATE\n",
    "df_num['NEXTDATE'].value_counts(dropna=False)"
   ]
  },
  {
   "cell_type": "code",
   "execution_count": 107,
   "id": "f454300c",
   "metadata": {},
   "outputs": [],
   "source": [
    "# this column means it is a second time someone gives a second donation. The time it is not relevant, but giving a second\n",
    "# time, yes. Creating a numerical boolean mask with 1 for second donation and 0 (the NaN fill) for no donation.\n",
    "df_num['NEXTDATE']=df_num['NEXTDATE'].fillna(0)"
   ]
  },
  {
   "cell_type": "code",
   "execution_count": 108,
   "id": "aba98722",
   "metadata": {},
   "outputs": [],
   "source": [
    "df_num['NEXTDATE']=df_num['NEXTDATE'].apply(lambda x: x if x == 0 else 1)"
   ]
  },
  {
   "cell_type": "code",
   "execution_count": 109,
   "id": "a740915b",
   "metadata": {},
   "outputs": [
    {
     "data": {
      "text/plain": [
       "<bound method IndexOpsMixin.value_counts of 0        1.0\n",
       "1        1.0\n",
       "2        1.0\n",
       "3        1.0\n",
       "4        1.0\n",
       "        ... \n",
       "95407    0.0\n",
       "95408    0.0\n",
       "95409    1.0\n",
       "95410    1.0\n",
       "95411    1.0\n",
       "Name: NEXTDATE, Length: 95280, dtype: float64>"
      ]
     },
     "execution_count": 109,
     "metadata": {},
     "output_type": "execute_result"
    }
   ],
   "source": [
    "df_num['NEXTDATE'].value_counts"
   ]
  },
  {
   "cell_type": "code",
   "execution_count": 110,
   "id": "b97437ba",
   "metadata": {},
   "outputs": [],
   "source": [
    "# hobbylist are useless and its cleaning way faster thanks to Giancarlo pinting out. So here we go"
   ]
  },
  {
   "cell_type": "code",
   "execution_count": 111,
   "id": "1489eb51",
   "metadata": {},
   "outputs": [],
   "source": [
    "hobbylist= ['MBCRAFT', 'MBGARDEN', 'MBBOOKS', 'MBCOLECT', 'MAGFAML', 'MAGFEM', 'MAGMALE', 'PUBGARDN', 'PUBCULIN', 'PUBHLTH', 'PUBDOITY', 'PUBNEWFN', 'PUBPHOTO', 'PUBOPP']"
   ]
  },
  {
   "cell_type": "code",
   "execution_count": 112,
   "id": "d345443c",
   "metadata": {},
   "outputs": [],
   "source": [
    "df_num=df_num.drop(columns=hobbylist)"
   ]
  },
  {
   "cell_type": "code",
   "execution_count": 113,
   "id": "80efccf5",
   "metadata": {},
   "outputs": [
    {
     "data": {
      "text/plain": [
       "Series([], dtype: int64)"
      ]
     },
     "execution_count": 113,
     "metadata": {},
     "output_type": "execute_result"
    }
   ],
   "source": [
    "#checking nulls\n",
    "df_num.isna().sum()[df_num.isna().sum() != 0]\n"
   ]
  },
  {
   "cell_type": "code",
   "execution_count": 114,
   "id": "6561d534",
   "metadata": {},
   "outputs": [],
   "source": [
    "# boom!"
   ]
  },
  {
   "cell_type": "code",
   "execution_count": 115,
   "id": "573ce3e5",
   "metadata": {},
   "outputs": [],
   "source": [
    "# concat\n",
    "df_final=pd.concat([df_cat, df_num], axis=1)"
   ]
  },
  {
   "cell_type": "code",
   "execution_count": 116,
   "id": "cf5de68b",
   "metadata": {},
   "outputs": [],
   "source": [
    "Y = df[['TARGET_B', 'TARGET_D']]"
   ]
  },
  {
   "cell_type": "code",
   "execution_count": 117,
   "id": "88ce2238",
   "metadata": {},
   "outputs": [],
   "source": [
    "df_cat.to_csv('categorical7_02.csv')\n",
    "df_num.to_csv('numerical7_02.csv')\n",
    "Y.to_csv('target7_02.csv')\n",
    "df_final.to_csv('healthcare_clean.csv')"
   ]
  },
  {
   "cell_type": "code",
   "execution_count": null,
   "id": "0f450eff",
   "metadata": {},
   "outputs": [],
   "source": []
  },
  {
   "cell_type": "code",
   "execution_count": null,
   "id": "768dc040",
   "metadata": {},
   "outputs": [],
   "source": []
  }
 ],
 "metadata": {
  "kernelspec": {
   "display_name": "Python 3 (ipykernel)",
   "language": "python",
   "name": "python3"
  },
  "language_info": {
   "codemirror_mode": {
    "name": "ipython",
    "version": 3
   },
   "file_extension": ".py",
   "mimetype": "text/x-python",
   "name": "python",
   "nbconvert_exporter": "python",
   "pygments_lexer": "ipython3",
   "version": "3.9.13"
  }
 },
 "nbformat": 4,
 "nbformat_minor": 5
}
