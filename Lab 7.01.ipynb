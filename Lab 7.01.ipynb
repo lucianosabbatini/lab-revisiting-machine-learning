{
 "cells": [
  {
   "cell_type": "code",
   "execution_count": 1,
   "id": "67f4eb25",
   "metadata": {},
   "outputs": [],
   "source": [
    "import pandas as pd\n",
    "import numpy as np"
   ]
  },
  {
   "cell_type": "code",
   "execution_count": 2,
   "id": "096af8a4",
   "metadata": {},
   "outputs": [
    {
     "name": "stderr",
     "output_type": "stream",
     "text": [
      "C:\\Users\\sabba\\AppData\\Local\\Temp\\ipykernel_21120\\1139992032.py:1: DtypeWarning: Columns (8) have mixed types. Specify dtype option on import or set low_memory=False.\n",
      "  df=pd.read_csv('learningSet.csv')\n"
     ]
    }
   ],
   "source": [
    "df=pd.read_csv('learningSet.csv')"
   ]
  },
  {
   "cell_type": "code",
   "execution_count": 3,
   "id": "5a6fc694",
   "metadata": {},
   "outputs": [],
   "source": [
    "# separating types\n",
    "df_num=df.select_dtypes(np.number)\n",
    "df_cat=df.select_dtypes(object)"
   ]
  },
  {
   "cell_type": "code",
   "execution_count": 4,
   "id": "5d5e0449",
   "metadata": {},
   "outputs": [
    {
     "data": {
      "text/plain": [
       "OSOURCE       0\n",
       "STATE         0\n",
       "ZIP           0\n",
       "MAILCODE      0\n",
       "PVASTATE      0\n",
       "           ... \n",
       "RFA_2A        0\n",
       "MDMAUD_R      0\n",
       "MDMAUD_F      0\n",
       "MDMAUD_A      0\n",
       "GEOCODE2    132\n",
       "Length: 74, dtype: int64"
      ]
     },
     "execution_count": 4,
     "metadata": {},
     "output_type": "execute_result"
    }
   ],
   "source": [
    "df_cat.isna().sum()"
   ]
  },
  {
   "cell_type": "code",
   "execution_count": 5,
   "id": "e41911b9",
   "metadata": {},
   "outputs": [],
   "source": [
    "# replacing the empty values for Nan\n",
    "df_cat = df_cat.apply(lambda x: x.replace(\" \", np.NaN))"
   ]
  },
  {
   "cell_type": "code",
   "execution_count": 6,
   "id": "87681ce3",
   "metadata": {},
   "outputs": [],
   "source": [
    "#Create a new empty list called drop_list"
   ]
  },
  {
   "cell_type": "code",
   "execution_count": 7,
   "id": "2f105c4a",
   "metadata": {},
   "outputs": [],
   "source": [
    "drop_list=[]"
   ]
  },
  {
   "cell_type": "code",
   "execution_count": 8,
   "id": "d4aa61fc",
   "metadata": {},
   "outputs": [],
   "source": [
    "drop_list.append('OSOURCE')"
   ]
  },
  {
   "cell_type": "code",
   "execution_count": 9,
   "id": "46dd2c07",
   "metadata": {},
   "outputs": [],
   "source": [
    "drop_list=drop_list + ['ZIP']"
   ]
  },
  {
   "cell_type": "code",
   "execution_count": 10,
   "id": "58383adc",
   "metadata": {},
   "outputs": [
    {
     "data": {
      "text/plain": [
       "['OSOURCE', 'ZIP']"
      ]
     },
     "execution_count": 10,
     "metadata": {},
     "output_type": "execute_result"
    }
   ],
   "source": [
    "drop_list"
   ]
  },
  {
   "cell_type": "code",
   "execution_count": 11,
   "id": "3b80aef8",
   "metadata": {},
   "outputs": [],
   "source": [
    "# Identify columns that over 85% missing values"
   ]
  },
  {
   "cell_type": "code",
   "execution_count": 12,
   "id": "9971cfd7",
   "metadata": {},
   "outputs": [
    {
     "data": {
      "text/html": [
       "<div>\n",
       "<style scoped>\n",
       "    .dataframe tbody tr th:only-of-type {\n",
       "        vertical-align: middle;\n",
       "    }\n",
       "\n",
       "    .dataframe tbody tr th {\n",
       "        vertical-align: top;\n",
       "    }\n",
       "\n",
       "    .dataframe thead th {\n",
       "        text-align: right;\n",
       "    }\n",
       "</style>\n",
       "<table border=\"1\" class=\"dataframe\">\n",
       "  <thead>\n",
       "    <tr style=\"text-align: right;\">\n",
       "      <th></th>\n",
       "      <th>column_name</th>\n",
       "      <th>nulls_percentage</th>\n",
       "    </tr>\n",
       "  </thead>\n",
       "  <tbody>\n",
       "    <tr>\n",
       "      <th>0</th>\n",
       "      <td>OSOURCE</td>\n",
       "      <td>0.009726</td>\n",
       "    </tr>\n",
       "    <tr>\n",
       "      <th>3</th>\n",
       "      <td>MAILCODE</td>\n",
       "      <td>0.985337</td>\n",
       "    </tr>\n",
       "    <tr>\n",
       "      <th>4</th>\n",
       "      <td>PVASTATE</td>\n",
       "      <td>0.984719</td>\n",
       "    </tr>\n",
       "    <tr>\n",
       "      <th>5</th>\n",
       "      <td>NOEXCH</td>\n",
       "      <td>0.000073</td>\n",
       "    </tr>\n",
       "    <tr>\n",
       "      <th>6</th>\n",
       "      <td>RECINHSE</td>\n",
       "      <td>0.929747</td>\n",
       "    </tr>\n",
       "    <tr>\n",
       "      <th>7</th>\n",
       "      <td>RECP3</td>\n",
       "      <td>0.978860</td>\n",
       "    </tr>\n",
       "    <tr>\n",
       "      <th>8</th>\n",
       "      <td>RECPGVG</td>\n",
       "      <td>0.998805</td>\n",
       "    </tr>\n",
       "    <tr>\n",
       "      <th>9</th>\n",
       "      <td>RECSWEEP</td>\n",
       "      <td>0.983052</td>\n",
       "    </tr>\n",
       "    <tr>\n",
       "      <th>11</th>\n",
       "      <td>DOMAIN</td>\n",
       "      <td>0.024274</td>\n",
       "    </tr>\n",
       "    <tr>\n",
       "      <th>12</th>\n",
       "      <td>CLUSTER</td>\n",
       "      <td>0.024274</td>\n",
       "    </tr>\n",
       "    <tr>\n",
       "      <th>13</th>\n",
       "      <td>AGEFLAG</td>\n",
       "      <td>0.309689</td>\n",
       "    </tr>\n",
       "    <tr>\n",
       "      <th>14</th>\n",
       "      <td>HOMEOWNR</td>\n",
       "      <td>0.232969</td>\n",
       "    </tr>\n",
       "    <tr>\n",
       "      <th>15</th>\n",
       "      <td>CHILD03</td>\n",
       "      <td>0.987989</td>\n",
       "    </tr>\n",
       "    <tr>\n",
       "      <th>16</th>\n",
       "      <td>CHILD07</td>\n",
       "      <td>0.983587</td>\n",
       "    </tr>\n",
       "    <tr>\n",
       "      <th>17</th>\n",
       "      <td>CHILD12</td>\n",
       "      <td>0.981019</td>\n",
       "    </tr>\n",
       "    <tr>\n",
       "      <th>18</th>\n",
       "      <td>CHILD18</td>\n",
       "      <td>0.970161</td>\n",
       "    </tr>\n",
       "    <tr>\n",
       "      <th>19</th>\n",
       "      <td>GENDER</td>\n",
       "      <td>0.030992</td>\n",
       "    </tr>\n",
       "    <tr>\n",
       "      <th>20</th>\n",
       "      <td>DATASRCE</td>\n",
       "      <td>0.223033</td>\n",
       "    </tr>\n",
       "    <tr>\n",
       "      <th>21</th>\n",
       "      <td>SOLP3</td>\n",
       "      <td>0.998113</td>\n",
       "    </tr>\n",
       "    <tr>\n",
       "      <th>22</th>\n",
       "      <td>SOLIH</td>\n",
       "      <td>0.935019</td>\n",
       "    </tr>\n",
       "    <tr>\n",
       "      <th>23</th>\n",
       "      <td>MAJOR</td>\n",
       "      <td>0.996919</td>\n",
       "    </tr>\n",
       "    <tr>\n",
       "      <th>24</th>\n",
       "      <td>GEOCODE</td>\n",
       "      <td>0.840230</td>\n",
       "    </tr>\n",
       "    <tr>\n",
       "      <th>25</th>\n",
       "      <td>COLLECT1</td>\n",
       "      <td>0.945479</td>\n",
       "    </tr>\n",
       "    <tr>\n",
       "      <th>26</th>\n",
       "      <td>VETERANS</td>\n",
       "      <td>0.890727</td>\n",
       "    </tr>\n",
       "    <tr>\n",
       "      <th>27</th>\n",
       "      <td>BIBLE</td>\n",
       "      <td>0.907024</td>\n",
       "    </tr>\n",
       "    <tr>\n",
       "      <th>28</th>\n",
       "      <td>CATLG</td>\n",
       "      <td>0.917568</td>\n",
       "    </tr>\n",
       "    <tr>\n",
       "      <th>29</th>\n",
       "      <td>HOMEE</td>\n",
       "      <td>0.990703</td>\n",
       "    </tr>\n",
       "    <tr>\n",
       "      <th>30</th>\n",
       "      <td>PETS</td>\n",
       "      <td>0.849851</td>\n",
       "    </tr>\n",
       "    <tr>\n",
       "      <th>31</th>\n",
       "      <td>CDPLAY</td>\n",
       "      <td>0.871568</td>\n",
       "    </tr>\n",
       "    <tr>\n",
       "      <th>32</th>\n",
       "      <td>STEREO</td>\n",
       "      <td>0.865908</td>\n",
       "    </tr>\n",
       "    <tr>\n",
       "      <th>33</th>\n",
       "      <td>PCOWNERS</td>\n",
       "      <td>0.890150</td>\n",
       "    </tr>\n",
       "    <tr>\n",
       "      <th>34</th>\n",
       "      <td>PHOTO</td>\n",
       "      <td>0.949839</td>\n",
       "    </tr>\n",
       "    <tr>\n",
       "      <th>35</th>\n",
       "      <td>CRAFTS</td>\n",
       "      <td>0.914308</td>\n",
       "    </tr>\n",
       "    <tr>\n",
       "      <th>36</th>\n",
       "      <td>FISHER</td>\n",
       "      <td>0.925271</td>\n",
       "    </tr>\n",
       "    <tr>\n",
       "      <th>37</th>\n",
       "      <td>GARDENIN</td>\n",
       "      <td>0.859535</td>\n",
       "    </tr>\n",
       "    <tr>\n",
       "      <th>38</th>\n",
       "      <td>BOATS</td>\n",
       "      <td>0.978745</td>\n",
       "    </tr>\n",
       "    <tr>\n",
       "      <th>39</th>\n",
       "      <td>WALKER</td>\n",
       "      <td>0.889940</td>\n",
       "    </tr>\n",
       "    <tr>\n",
       "      <th>40</th>\n",
       "      <td>KIDSTUFF</td>\n",
       "      <td>0.983901</td>\n",
       "    </tr>\n",
       "    <tr>\n",
       "      <th>41</th>\n",
       "      <td>CARDS</td>\n",
       "      <td>0.989089</td>\n",
       "    </tr>\n",
       "    <tr>\n",
       "      <th>42</th>\n",
       "      <td>PLATES</td>\n",
       "      <td>0.994131</td>\n",
       "    </tr>\n",
       "    <tr>\n",
       "      <th>43</th>\n",
       "      <td>LIFESRC</td>\n",
       "      <td>0.566302</td>\n",
       "    </tr>\n",
       "    <tr>\n",
       "      <th>44</th>\n",
       "      <td>PEPSTRFL</td>\n",
       "      <td>0.525542</td>\n",
       "    </tr>\n",
       "    <tr>\n",
       "      <th>46</th>\n",
       "      <td>RFA_3</td>\n",
       "      <td>0.020438</td>\n",
       "    </tr>\n",
       "    <tr>\n",
       "      <th>47</th>\n",
       "      <td>RFA_4</td>\n",
       "      <td>0.024232</td>\n",
       "    </tr>\n",
       "    <tr>\n",
       "      <th>48</th>\n",
       "      <td>RFA_5</td>\n",
       "      <td>0.352052</td>\n",
       "    </tr>\n",
       "    <tr>\n",
       "      <th>49</th>\n",
       "      <td>RFA_6</td>\n",
       "      <td>0.037280</td>\n",
       "    </tr>\n",
       "    <tr>\n",
       "      <th>50</th>\n",
       "      <td>RFA_7</td>\n",
       "      <td>0.093007</td>\n",
       "    </tr>\n",
       "    <tr>\n",
       "      <th>51</th>\n",
       "      <td>RFA_8</td>\n",
       "      <td>0.036798</td>\n",
       "    </tr>\n",
       "    <tr>\n",
       "      <th>52</th>\n",
       "      <td>RFA_9</td>\n",
       "      <td>0.117857</td>\n",
       "    </tr>\n",
       "    <tr>\n",
       "      <th>53</th>\n",
       "      <td>RFA_10</td>\n",
       "      <td>0.343227</td>\n",
       "    </tr>\n",
       "    <tr>\n",
       "      <th>54</th>\n",
       "      <td>RFA_11</td>\n",
       "      <td>0.109232</td>\n",
       "    </tr>\n",
       "    <tr>\n",
       "      <th>55</th>\n",
       "      <td>RFA_12</td>\n",
       "      <td>0.093521</td>\n",
       "    </tr>\n",
       "    <tr>\n",
       "      <th>56</th>\n",
       "      <td>RFA_13</td>\n",
       "      <td>0.421530</td>\n",
       "    </tr>\n",
       "    <tr>\n",
       "      <th>57</th>\n",
       "      <td>RFA_14</td>\n",
       "      <td>0.197742</td>\n",
       "    </tr>\n",
       "    <tr>\n",
       "      <th>58</th>\n",
       "      <td>RFA_15</td>\n",
       "      <td>0.686255</td>\n",
       "    </tr>\n",
       "    <tr>\n",
       "      <th>59</th>\n",
       "      <td>RFA_16</td>\n",
       "      <td>0.213988</td>\n",
       "    </tr>\n",
       "    <tr>\n",
       "      <th>60</th>\n",
       "      <td>RFA_17</td>\n",
       "      <td>0.289796</td>\n",
       "    </tr>\n",
       "    <tr>\n",
       "      <th>61</th>\n",
       "      <td>RFA_18</td>\n",
       "      <td>0.222855</td>\n",
       "    </tr>\n",
       "    <tr>\n",
       "      <th>62</th>\n",
       "      <td>RFA_19</td>\n",
       "      <td>0.256697</td>\n",
       "    </tr>\n",
       "    <tr>\n",
       "      <th>63</th>\n",
       "      <td>RFA_20</td>\n",
       "      <td>0.526139</td>\n",
       "    </tr>\n",
       "  </tbody>\n",
       "</table>\n",
       "</div>"
      ],
      "text/plain": [
       "   column_name  nulls_percentage\n",
       "0      OSOURCE          0.009726\n",
       "3     MAILCODE          0.985337\n",
       "4     PVASTATE          0.984719\n",
       "5       NOEXCH          0.000073\n",
       "6     RECINHSE          0.929747\n",
       "7        RECP3          0.978860\n",
       "8      RECPGVG          0.998805\n",
       "9     RECSWEEP          0.983052\n",
       "11      DOMAIN          0.024274\n",
       "12     CLUSTER          0.024274\n",
       "13     AGEFLAG          0.309689\n",
       "14    HOMEOWNR          0.232969\n",
       "15     CHILD03          0.987989\n",
       "16     CHILD07          0.983587\n",
       "17     CHILD12          0.981019\n",
       "18     CHILD18          0.970161\n",
       "19      GENDER          0.030992\n",
       "20    DATASRCE          0.223033\n",
       "21       SOLP3          0.998113\n",
       "22       SOLIH          0.935019\n",
       "23       MAJOR          0.996919\n",
       "24     GEOCODE          0.840230\n",
       "25    COLLECT1          0.945479\n",
       "26    VETERANS          0.890727\n",
       "27       BIBLE          0.907024\n",
       "28       CATLG          0.917568\n",
       "29       HOMEE          0.990703\n",
       "30        PETS          0.849851\n",
       "31      CDPLAY          0.871568\n",
       "32      STEREO          0.865908\n",
       "33    PCOWNERS          0.890150\n",
       "34       PHOTO          0.949839\n",
       "35      CRAFTS          0.914308\n",
       "36      FISHER          0.925271\n",
       "37    GARDENIN          0.859535\n",
       "38       BOATS          0.978745\n",
       "39      WALKER          0.889940\n",
       "40    KIDSTUFF          0.983901\n",
       "41       CARDS          0.989089\n",
       "42      PLATES          0.994131\n",
       "43     LIFESRC          0.566302\n",
       "44    PEPSTRFL          0.525542\n",
       "46       RFA_3          0.020438\n",
       "47       RFA_4          0.024232\n",
       "48       RFA_5          0.352052\n",
       "49       RFA_6          0.037280\n",
       "50       RFA_7          0.093007\n",
       "51       RFA_8          0.036798\n",
       "52       RFA_9          0.117857\n",
       "53      RFA_10          0.343227\n",
       "54      RFA_11          0.109232\n",
       "55      RFA_12          0.093521\n",
       "56      RFA_13          0.421530\n",
       "57      RFA_14          0.197742\n",
       "58      RFA_15          0.686255\n",
       "59      RFA_16          0.213988\n",
       "60      RFA_17          0.289796\n",
       "61      RFA_18          0.222855\n",
       "62      RFA_19          0.256697\n",
       "63      RFA_20          0.526139"
      ]
     },
     "execution_count": 12,
     "metadata": {},
     "output_type": "execute_result"
    }
   ],
   "source": [
    "nulls_percent_df = pd.DataFrame(df_cat.isna().sum()/len(df_cat)).reset_index()\n",
    "nulls_percent_df\n",
    "nulls_percent_df.columns = ['column_name', 'nulls_percentage']\n",
    "nulls_percent_df[nulls_percent_df['nulls_percentage']!=0].head(60)"
   ]
  },
  {
   "cell_type": "code",
   "execution_count": 13,
   "id": "ade2b4f9",
   "metadata": {},
   "outputs": [],
   "source": [
    "# creating threshold\n"
   ]
  },
  {
   "cell_type": "code",
   "execution_count": 14,
   "id": "27e60586",
   "metadata": {},
   "outputs": [
    {
     "name": "stdout",
     "output_type": "stream",
     "text": [
      "['MAILCODE', 'PVASTATE', 'RECINHSE', 'RECP3', 'RECPGVG', 'RECSWEEP', 'CHILD03', 'CHILD07', 'CHILD12', 'CHILD18', 'SOLP3', 'SOLIH', 'MAJOR', 'COLLECT1', 'VETERANS', 'BIBLE', 'CATLG', 'HOMEE', 'CDPLAY', 'STEREO', 'PCOWNERS', 'PHOTO', 'CRAFTS', 'FISHER', 'GARDENIN', 'BOATS', 'WALKER', 'KIDSTUFF', 'CARDS', 'PLATES']\n"
     ]
    }
   ],
   "source": [
    "columns_above_threshold = nulls_percent_df[nulls_percent_df['nulls_percentage']>0.85]\n",
    "drop_columns_list = list(columns_above_threshold['column_name'])\n",
    "print(drop_columns_list)"
   ]
  },
  {
   "cell_type": "code",
   "execution_count": 15,
   "id": "8a1336fd",
   "metadata": {},
   "outputs": [
    {
     "data": {
      "text/plain": [
       "(95412, 74)"
      ]
     },
     "execution_count": 15,
     "metadata": {},
     "output_type": "execute_result"
    }
   ],
   "source": [
    "df_cat.shape"
   ]
  },
  {
   "cell_type": "code",
   "execution_count": 16,
   "id": "57060b5b",
   "metadata": {},
   "outputs": [],
   "source": [
    "drop_list=drop_list + (drop_columns_list)"
   ]
  },
  {
   "cell_type": "code",
   "execution_count": 17,
   "id": "5e916393",
   "metadata": {},
   "outputs": [],
   "source": [
    "# Remove those columns from the dataframe"
   ]
  },
  {
   "cell_type": "code",
   "execution_count": 18,
   "id": "7f97d664",
   "metadata": {},
   "outputs": [],
   "source": [
    "# Filling Nans"
   ]
  },
  {
   "cell_type": "code",
   "execution_count": 19,
   "id": "aed5edf9",
   "metadata": {},
   "outputs": [
    {
     "data": {
      "text/plain": [
       "array(['F', 'M', nan, 'C', 'U', 'J', 'A'], dtype=object)"
      ]
     },
     "metadata": {},
     "output_type": "display_data"
    },
    {
     "data": {
      "text/plain": [
       "array(['F', 'M', 'C', 'U', 'J', 'A'], dtype=object)"
      ]
     },
     "metadata": {},
     "output_type": "display_data"
    }
   ],
   "source": [
    "display(df_cat['GENDER'].unique())\n",
    "df_cat['GENDER']=df_cat['GENDER'].fillna('F')\n",
    "display(df_cat['GENDER'].unique())"
   ]
  },
  {
   "cell_type": "code",
   "execution_count": 20,
   "id": "cef4e364",
   "metadata": {},
   "outputs": [],
   "source": [
    "# cleaning as requested\n",
    "df_cat['GENDER'] = np.where(df_cat['GENDER'].isin(['F', 'M']), df_cat['GENDER'], 'other')\n"
   ]
  },
  {
   "cell_type": "code",
   "execution_count": 21,
   "id": "901921bf",
   "metadata": {},
   "outputs": [
    {
     "data": {
      "text/plain": [
       "array(['F', 'M', 'other'], dtype=object)"
      ]
     },
     "metadata": {},
     "output_type": "display_data"
    }
   ],
   "source": [
    "display(df_cat['GENDER'].unique())"
   ]
  },
  {
   "cell_type": "code",
   "execution_count": 22,
   "id": "f03f72fc",
   "metadata": {},
   "outputs": [],
   "source": [
    "df_cat['CLUSTER']=df_cat['CLUSTER'].fillna('40')"
   ]
  },
  {
   "cell_type": "code",
   "execution_count": 23,
   "id": "c577fc10",
   "metadata": {},
   "outputs": [],
   "source": [
    "df_cat['HOMEOWNR'] = df_cat['HOMEOWNR'].fillna('U')"
   ]
  },
  {
   "cell_type": "code",
   "execution_count": 24,
   "id": "42f7ae65",
   "metadata": {},
   "outputs": [],
   "source": [
    "# aggreating DOMAIN into two columns\n",
    "df_cat['DOMAIN'] = df_cat['DOMAIN'].fillna('R2')\n",
    "\n",
    "df_cat['DOMAIN_A'] = list(map(lambda x: x[0], df_cat['DOMAIN']))\n",
    "df_cat['DOMAIN_B'] = list(map(lambda x: x[1], df_cat['DOMAIN']))"
   ]
  },
  {
   "cell_type": "code",
   "execution_count": 25,
   "id": "87cbcfb6",
   "metadata": {},
   "outputs": [],
   "source": [
    "df_cat = df_cat.drop('DOMAIN', axis=1)"
   ]
  },
  {
   "cell_type": "code",
   "execution_count": 26,
   "id": "89cf5368",
   "metadata": {},
   "outputs": [],
   "source": [
    "df_cat['DATASRCE'] = df_cat['DATASRCE'].fillna('0')\n",
    "df_cat['GEOCODE2'] = df_cat['GEOCODE2'].fillna('A')"
   ]
  },
  {
   "cell_type": "code",
   "execution_count": 27,
   "id": "49a655de",
   "metadata": {},
   "outputs": [
    {
     "data": {
      "text/plain": [
       "['OSOURCE',\n",
       " 'ZIP',\n",
       " 'MAILCODE',\n",
       " 'PVASTATE',\n",
       " 'RECINHSE',\n",
       " 'RECP3',\n",
       " 'RECPGVG',\n",
       " 'RECSWEEP',\n",
       " 'CHILD03',\n",
       " 'CHILD07',\n",
       " 'CHILD12',\n",
       " 'CHILD18',\n",
       " 'SOLP3',\n",
       " 'SOLIH',\n",
       " 'MAJOR',\n",
       " 'COLLECT1',\n",
       " 'VETERANS',\n",
       " 'BIBLE',\n",
       " 'CATLG',\n",
       " 'HOMEE',\n",
       " 'CDPLAY',\n",
       " 'STEREO',\n",
       " 'PCOWNERS',\n",
       " 'PHOTO',\n",
       " 'CRAFTS',\n",
       " 'FISHER',\n",
       " 'GARDENIN',\n",
       " 'BOATS',\n",
       " 'WALKER',\n",
       " 'KIDSTUFF',\n",
       " 'CARDS',\n",
       " 'PLATES']"
      ]
     },
     "execution_count": 27,
     "metadata": {},
     "output_type": "execute_result"
    }
   ],
   "source": [
    "drop_list"
   ]
  },
  {
   "cell_type": "code",
   "execution_count": 28,
   "id": "d6360c05",
   "metadata": {},
   "outputs": [],
   "source": [
    "for col_name in df_cat.columns:\n",
    "    if \"RFA\" in col_name:\n",
    "        drop_list.append(col_name) "
   ]
  },
  {
   "cell_type": "code",
   "execution_count": 29,
   "id": "cc3d4100",
   "metadata": {
    "scrolled": true
   },
   "outputs": [],
   "source": [
    "drop_list.remove('RFA_2R')\n",
    "drop_list.remove('RFA_2A')\n"
   ]
  },
  {
   "cell_type": "code",
   "execution_count": 31,
   "id": "ad3c7bae",
   "metadata": {},
   "outputs": [
    {
     "data": {
      "text/plain": [
       "NaN    84986\n",
       "Y      10426\n",
       "Name: VETERANS, dtype: int64"
      ]
     },
     "execution_count": 31,
     "metadata": {},
     "output_type": "execute_result"
    }
   ],
   "source": [
    "df_cat['VETERANS'].value_counts(dropna=False)"
   ]
  },
  {
   "cell_type": "code",
   "execution_count": 32,
   "id": "9930ee29",
   "metadata": {},
   "outputs": [],
   "source": [
    "# Veterans shoul not be on drop_list. Filling nulls with no.\n",
    "df_cat['VETERANS']=df_cat['VETERANS'].fillna('N')"
   ]
  },
  {
   "cell_type": "code",
   "execution_count": 36,
   "id": "1932d6bb",
   "metadata": {},
   "outputs": [],
   "source": [
    "drop_list.remove('VETERANS')"
   ]
  },
  {
   "cell_type": "code",
   "execution_count": 33,
   "id": "edccc22c",
   "metadata": {},
   "outputs": [
    {
     "data": {
      "text/plain": [
       "NaN    86541\n",
       "Y       8871\n",
       "Name: BIBLE, dtype: int64"
      ]
     },
     "execution_count": 33,
     "metadata": {},
     "output_type": "execute_result"
    }
   ],
   "source": [
    "df_cat['BIBLE'].value_counts(dropna=False)"
   ]
  },
  {
   "cell_type": "code",
   "execution_count": 34,
   "id": "92ee1c51",
   "metadata": {},
   "outputs": [],
   "source": [
    "# Same as veterans, might prove usefull to use as a niche.\n",
    "df_cat['BIBLE']=df_cat['BIBLE'].fillna('N')"
   ]
  },
  {
   "cell_type": "code",
   "execution_count": 37,
   "id": "553b1b72",
   "metadata": {},
   "outputs": [],
   "source": [
    "drop_list.remove('BIBLE')"
   ]
  },
  {
   "cell_type": "code",
   "execution_count": 35,
   "id": "8013f025",
   "metadata": {},
   "outputs": [
    {
     "data": {
      "text/plain": [
       "NaN    94525\n",
       "Y        887\n",
       "Name: HOMEE, dtype: int64"
      ]
     },
     "execution_count": 35,
     "metadata": {},
     "output_type": "execute_result"
    }
   ],
   "source": [
    "df_cat['HOMEE'].value_counts(dropna=False)\n",
    "# not as usefull, mantain on drop_list"
   ]
  },
  {
   "cell_type": "code",
   "execution_count": 38,
   "id": "1ea9c0e1",
   "metadata": {},
   "outputs": [
    {
     "data": {
      "text/plain": [
       "NaN    95118\n",
       "X        294\n",
       "Name: MAJOR, dtype: int64"
      ]
     },
     "execution_count": 38,
     "metadata": {},
     "output_type": "execute_result"
    }
   ],
   "source": [
    "df_cat['MAJOR'].value_counts(dropna=False)"
   ]
  },
  {
   "cell_type": "code",
   "execution_count": 41,
   "id": "cec9833a",
   "metadata": {},
   "outputs": [],
   "source": [
    "# Even though 294 major donors suggest is a big outlier like that, it might be interesting to analyse in separate.\n",
    "df_cat['MAJOR']=df_cat['MAJOR'].fillna('N')\n",
    "df_cat['MAJOR']=df_cat['MAJOR'].str.replace('X','Y')\n",
    "drop_list.remove('MAJOR')"
   ]
  },
  {
   "cell_type": "code",
   "execution_count": 44,
   "id": "2d810e33",
   "metadata": {},
   "outputs": [
    {
     "data": {
      "text/plain": [
       "NaN    88709\n",
       "X       6703\n",
       "Name: RECINHSE, dtype: int64"
      ]
     },
     "execution_count": 44,
     "metadata": {},
     "output_type": "execute_result"
    }
   ],
   "source": [
    "df_cat['RECINHSE'].value_counts(dropna=False)"
   ]
  },
  {
   "cell_type": "code",
   "execution_count": 45,
   "id": "b960160f",
   "metadata": {
    "scrolled": true
   },
   "outputs": [
    {
     "data": {
      "text/plain": [
       "52"
      ]
     },
     "execution_count": 45,
     "metadata": {},
     "output_type": "execute_result"
    }
   ],
   "source": [
    "len(drop_list)"
   ]
  },
  {
   "cell_type": "code",
   "execution_count": 47,
   "id": "0c5f1d70",
   "metadata": {},
   "outputs": [
    {
     "data": {
      "text/plain": [
       "(95412, 23)"
      ]
     },
     "execution_count": 47,
     "metadata": {},
     "output_type": "execute_result"
    }
   ],
   "source": [
    "df_cat=df_cat.drop(columns=drop_list)\n",
    "\n",
    "df_cat.shape"
   ]
  },
  {
   "cell_type": "code",
   "execution_count": 48,
   "id": "9ac6d0bb",
   "metadata": {},
   "outputs": [],
   "source": [
    "# it´s just 7, i´m just dropping it\n",
    "df_cat['NOEXCH']=df_cat['NOEXCH'].dropna=True"
   ]
  },
  {
   "cell_type": "code",
   "execution_count": 49,
   "id": "f6cce8c3",
   "metadata": {},
   "outputs": [
    {
     "data": {
      "text/plain": [
       "E      57344\n",
       "NaN    29548\n",
       "I       8520\n",
       "Name: AGEFLAG, dtype: int64"
      ]
     },
     "execution_count": 49,
     "metadata": {},
     "output_type": "execute_result"
    }
   ],
   "source": [
    "df_cat['AGEFLAG'].value_counts(dropna=False)"
   ]
  },
  {
   "cell_type": "code",
   "execution_count": 50,
   "id": "b6854056",
   "metadata": {},
   "outputs": [],
   "source": [
    "# fill with the most common \n",
    "df_cat['AGEFLAG'] = df_cat['AGEFLAG'].fillna('E')"
   ]
  },
  {
   "cell_type": "code",
   "execution_count": 51,
   "id": "9a4a687c",
   "metadata": {},
   "outputs": [
    {
     "data": {
      "text/plain": [
       "NaN    81086\n",
       "Y      14326\n",
       "Name: PETS, dtype: int64"
      ]
     },
     "execution_count": 51,
     "metadata": {},
     "output_type": "execute_result"
    }
   ],
   "source": [
    "df_cat['PETS'].value_counts(dropna=False)"
   ]
  },
  {
   "cell_type": "code",
   "execution_count": 52,
   "id": "ecb0c019",
   "metadata": {},
   "outputs": [],
   "source": [
    "# It´s yes or no for household pets. It should be no the Nans\n",
    "df_cat['PETS'] = df_cat['PETS'].fillna('N')"
   ]
  },
  {
   "cell_type": "code",
   "execution_count": 53,
   "id": "a2fea15c",
   "metadata": {},
   "outputs": [
    {
     "data": {
      "text/plain": [
       "NaN    54032\n",
       "2      20027\n",
       "3      11479\n",
       "1       9874\n",
       "Name: LIFESRC, dtype: int64"
      ]
     },
     "execution_count": 53,
     "metadata": {},
     "output_type": "execute_result"
    }
   ],
   "source": [
    "df_cat['LIFESRC'].value_counts(dropna=False)"
   ]
  },
  {
   "cell_type": "code",
   "execution_count": 54,
   "id": "06106c9d",
   "metadata": {},
   "outputs": [],
   "source": [
    "# `LIFESRC` | LIFE STYLE DATA SOURCE <br /> Indicates source of the lifestyle variables listed above <br /> \n",
    "# 1=MATCHED ON METRO MAIL ONLY <br /> 2=MATCHED ON POLK ONLY <br /> 3=MATCHED BOTH MM AND POLK\n",
    "# It should be neither, thus fill with 0\n"
   ]
  },
  {
   "cell_type": "code",
   "execution_count": 55,
   "id": "b317b72b",
   "metadata": {},
   "outputs": [],
   "source": [
    "df_cat['LIFESRC'] = df_cat['LIFESRC'].fillna(0)"
   ]
  },
  {
   "cell_type": "code",
   "execution_count": 56,
   "id": "d1519ae8",
   "metadata": {},
   "outputs": [
    {
     "data": {
      "text/plain": [
       "NaN    50143\n",
       "X      45269\n",
       "Name: PEPSTRFL, dtype: int64"
      ]
     },
     "execution_count": 56,
     "metadata": {},
     "output_type": "execute_result"
    }
   ],
   "source": [
    "df_cat['PEPSTRFL'].value_counts(dropna=False)"
   ]
  },
  {
   "cell_type": "code",
   "execution_count": 57,
   "id": "9e1c69fd",
   "metadata": {},
   "outputs": [],
   "source": [
    "# `PEPSTRFL` | Indicates PEP Star RFA Status <br /> blank=Not considered to be a PEP Star <br /> 'X'=Has PEP Star RFA Status\n",
    "# nan should be does NOT have PEP star\n",
    "df_cat['PEPSTRFL'] = df_cat['PEPSTRFL'].fillna('N')\n",
    "# replace the X for Y to keep the standard\n",
    "df_cat['PEPSTRFL']=df_cat['PEPSTRFL'].str.replace('X','Y')"
   ]
  },
  {
   "cell_type": "code",
   "execution_count": 58,
   "id": "91868f95",
   "metadata": {
    "scrolled": true
   },
   "outputs": [
    {
     "data": {
      "text/plain": [
       "N    50143\n",
       "Y    45269\n",
       "Name: PEPSTRFL, dtype: int64"
      ]
     },
     "execution_count": 58,
     "metadata": {},
     "output_type": "execute_result"
    }
   ],
   "source": [
    "df_cat['PEPSTRFL'].value_counts(dropna=False)"
   ]
  },
  {
   "cell_type": "code",
   "execution_count": 59,
   "id": "797abab3",
   "metadata": {},
   "outputs": [
    {
     "data": {
      "text/plain": [
       "NaN    80168\n",
       "12      3914\n",
       "3       3327\n",
       "14      2017\n",
       "5       1918\n",
       "4       1622\n",
       "2       1408\n",
       "1       1038\n",
       "Name: GEOCODE, dtype: int64"
      ]
     },
     "execution_count": 59,
     "metadata": {},
     "output_type": "execute_result"
    }
   ],
   "source": [
    "df_cat['GEOCODE'].value_counts(dropna=False)"
   ]
  },
  {
   "cell_type": "code",
   "execution_count": 60,
   "id": "c4f33b7a",
   "metadata": {},
   "outputs": [],
   "source": [
    "df_cat['GEOCODE'] = df_cat['GEOCODE'].fillna('Not assigned')"
   ]
  },
  {
   "cell_type": "code",
   "execution_count": 61,
   "id": "6d71db2b",
   "metadata": {},
   "outputs": [
    {
     "data": {
      "text/plain": [
       "STATE       0\n",
       "NOEXCH      0\n",
       "MDMAUD      0\n",
       "CLUSTER     0\n",
       "AGEFLAG     0\n",
       "HOMEOWNR    0\n",
       "GENDER      0\n",
       "DATASRCE    0\n",
       "MAJOR       0\n",
       "GEOCODE     0\n",
       "VETERANS    0\n",
       "BIBLE       0\n",
       "PETS        0\n",
       "LIFESRC     0\n",
       "PEPSTRFL    0\n",
       "RFA_2R      0\n",
       "RFA_2A      0\n",
       "MDMAUD_R    0\n",
       "MDMAUD_F    0\n",
       "MDMAUD_A    0\n",
       "GEOCODE2    0\n",
       "DOMAIN_A    0\n",
       "DOMAIN_B    0\n",
       "dtype: int64"
      ]
     },
     "execution_count": 61,
     "metadata": {},
     "output_type": "execute_result"
    }
   ],
   "source": [
    "# Final check for nulls\n",
    "df_cat.isna().sum()"
   ]
  },
  {
   "cell_type": "markdown",
   "id": "4663a86d",
   "metadata": {},
   "source": [
    "> All nulls cleaned and columns dropped for categoricals"
   ]
  },
  {
   "cell_type": "markdown",
   "id": "c9abbefc",
   "metadata": {},
   "source": [
    "## End of Lab 7.01"
   ]
  },
  {
   "cell_type": "code",
   "execution_count": null,
   "id": "ad7b3ab3",
   "metadata": {},
   "outputs": [],
   "source": [
    "# Check for null values in the numerical columns and keeping the standard of dropping the columns with more then 85% nulls."
   ]
  },
  {
   "cell_type": "code",
   "execution_count": null,
   "id": "5b1dadeb",
   "metadata": {},
   "outputs": [],
   "source": [
    "nulls_percent_df2 = pd.DataFrame(df_num.isna().sum()/len(df_num)).reset_index()\n",
    "nulls_percent_df2.columns = ['column_name', 'nulls_percentage']\n",
    "#nulls_percent_df2[nulls_percent_df2['nulls_percentage']!=0].head(60)"
   ]
  },
  {
   "cell_type": "code",
   "execution_count": null,
   "id": "816c0fa8",
   "metadata": {},
   "outputs": [],
   "source": [
    "drop_list_2=[]"
   ]
  },
  {
   "cell_type": "code",
   "execution_count": null,
   "id": "4a581767",
   "metadata": {},
   "outputs": [],
   "source": [
    "columns_above_threshold_2 = nulls_percent_df2[nulls_percent_df2['nulls_percentage']>0.85]\n",
    "drop_columns_list_2 = list(columns_above_threshold_2['column_name'])\n",
    "print(drop_columns_list_2)"
   ]
  },
  {
   "cell_type": "code",
   "execution_count": null,
   "id": "fd7c4120",
   "metadata": {},
   "outputs": [],
   "source": [
    "drop_list_2=drop_columns_list_2"
   ]
  },
  {
   "cell_type": "code",
   "execution_count": null,
   "id": "d71cf095",
   "metadata": {},
   "outputs": [],
   "source": [
    "#drop_list_2"
   ]
  },
  {
   "cell_type": "code",
   "execution_count": null,
   "id": "9d4047c1",
   "metadata": {},
   "outputs": [],
   "source": [
    "# `WEALTH1` | Wealth Rating"
   ]
  },
  {
   "cell_type": "code",
   "execution_count": null,
   "id": "d0fe596d",
   "metadata": {
    "scrolled": false
   },
   "outputs": [],
   "source": [
    "df_num['WEALTH1'].value_counts(dropna=False)"
   ]
  },
  {
   "cell_type": "code",
   "execution_count": null,
   "id": "e1f6ff08",
   "metadata": {},
   "outputs": [],
   "source": [
    "df_num['WEALTH2'].value_counts(dropna=False)"
   ]
  },
  {
   "cell_type": "code",
   "execution_count": null,
   "id": "baf1646c",
   "metadata": {},
   "outputs": [],
   "source": [
    "# both columns are the same. filling with the mean\n",
    "#numerical['WEALTH1'] = numerical['WEALTH1'].astype('object')\n",
    "df_num['WEALTH1'] = df_num['WEALTH1'].fillna(np.mean)\n",
    "#numerical['WEALTH2'] = numerical['WEALTH2'].astype('object')\n",
    "df_num['WEALTH2'] = df_num['WEALTH2'].fillna(np.mean)"
   ]
  },
  {
   "cell_type": "code",
   "execution_count": null,
   "id": "0f4a96c5",
   "metadata": {},
   "outputs": [],
   "source": [
    "df_num.isna().sum()"
   ]
  },
  {
   "cell_type": "code",
   "execution_count": null,
   "id": "25ae4bc1",
   "metadata": {},
   "outputs": [],
   "source": [
    "df_num['AGE'].value_counts(dropna=False)"
   ]
  },
  {
   "cell_type": "code",
   "execution_count": null,
   "id": "dc3af5d1",
   "metadata": {},
   "outputs": [],
   "source": [
    "# filling with mean\n",
    "df_num['AGE'] = df_num[\"AGE\"].fillna(np.mean(df_num['AGE']))"
   ]
  },
  {
   "cell_type": "code",
   "execution_count": null,
   "id": "b00d5ac0",
   "metadata": {},
   "outputs": [],
   "source": [
    "df_num['NUMCHLD'].value_counts(dropna=False)"
   ]
  },
  {
   "cell_type": "code",
   "execution_count": null,
   "id": "5ecd8e5f",
   "metadata": {},
   "outputs": [],
   "source": [
    "# filling with no kids = 0\n",
    "df_num['NUMCHLD']=df_num['NUMCHLD'].fillna(0)"
   ]
  },
  {
   "cell_type": "code",
   "execution_count": null,
   "id": "7766315e",
   "metadata": {},
   "outputs": [],
   "source": [
    "# GEOCODE2 was done before. dealing with columns asked on the Lab."
   ]
  },
  {
   "cell_type": "code",
   "execution_count": null,
   "id": "8c3c6a70",
   "metadata": {
    "scrolled": true
   },
   "outputs": [],
   "source": [
    "df_num['ADI'].value_counts(dropna=False)"
   ]
  },
  {
   "cell_type": "code",
   "execution_count": null,
   "id": "926d1523",
   "metadata": {
    "scrolled": true
   },
   "outputs": [],
   "source": [
    "df_num['DMA'].value_counts(dropna=False)"
   ]
  },
  {
   "cell_type": "code",
   "execution_count": null,
   "id": "25fe8cdc",
   "metadata": {
    "scrolled": false
   },
   "outputs": [],
   "source": [
    " df_num['MSA'].value_counts(dropna=False)   "
   ]
  },
  {
   "cell_type": "code",
   "execution_count": null,
   "id": "9bf10266",
   "metadata": {},
   "outputs": [],
   "source": [
    "# grouping them columns to better inspect\n",
    "df_num_sorted = df_num[['MSA', 'DMA', 'ADI']]\n"
   ]
  },
  {
   "cell_type": "code",
   "execution_count": null,
   "id": "9377bc24",
   "metadata": {
    "scrolled": true
   },
   "outputs": [],
   "source": [
    "df_num_sorted"
   ]
  },
  {
   "cell_type": "code",
   "execution_count": null,
   "id": "b28d83f9",
   "metadata": {},
   "outputs": [],
   "source": [
    "import matplotlib.pyplot as plt\n",
    "import seaborn as sns \n",
    "sns.distplot(df_num[df_num['MSA'].isna()==False]['MSA']) \n",
    "plt.show()"
   ]
  },
  {
   "cell_type": "code",
   "execution_count": null,
   "id": "34cf2872",
   "metadata": {},
   "outputs": [],
   "source": [
    "# they all seem to follow the same pattern.\n",
    "# Replacing all 0 values in MSA, DMA, and ADI columns with the corresponding column mean\n",
    "for col in ['MSA', 'DMA', 'ADI']:\n",
    "    df_num[col] = df_num[col].replace(0, df_num[col].mean())"
   ]
  },
  {
   "cell_type": "code",
   "execution_count": null,
   "id": "61e6e334",
   "metadata": {},
   "outputs": [],
   "source": [
    "sns.distplot(df_num[df_num['MSA'].isna()==False]['MSA']) \n",
    "plt.show()"
   ]
  },
  {
   "cell_type": "code",
   "execution_count": null,
   "id": "dca475e8",
   "metadata": {},
   "outputs": [],
   "source": [
    "drop_list_2.remove('NUMCHLD')"
   ]
  },
  {
   "cell_type": "code",
   "execution_count": null,
   "id": "77c6d24c",
   "metadata": {},
   "outputs": [],
   "source": [
    "display(df_num.shape)\n",
    "df_num=df_num.drop(columns=drop_list_2)\n",
    "\n",
    "display(df_num.shape)"
   ]
  },
  {
   "cell_type": "code",
   "execution_count": null,
   "id": "35a11587",
   "metadata": {},
   "outputs": [],
   "source": [
    "Y = df[['TARGET_B', 'TARGET_D']]"
   ]
  },
  {
   "cell_type": "code",
   "execution_count": 62,
   "id": "e8729581",
   "metadata": {},
   "outputs": [],
   "source": [
    "df_cat.to_csv('categorical7_02.csv')"
   ]
  },
  {
   "cell_type": "code",
   "execution_count": null,
   "id": "fb0c19d0",
   "metadata": {},
   "outputs": [],
   "source": [
    "\n",
    "\n",
    "df_num.to_csv('numerical7_02.csv')\n",
    "\n",
    "Y.to_csv('target7_02.csv')"
   ]
  },
  {
   "cell_type": "code",
   "execution_count": null,
   "id": "90b038ce",
   "metadata": {},
   "outputs": [],
   "source": []
  }
 ],
 "metadata": {
  "kernelspec": {
   "display_name": "Python 3 (ipykernel)",
   "language": "python",
   "name": "python3"
  },
  "language_info": {
   "codemirror_mode": {
    "name": "ipython",
    "version": 3
   },
   "file_extension": ".py",
   "mimetype": "text/x-python",
   "name": "python",
   "nbconvert_exporter": "python",
   "pygments_lexer": "ipython3",
   "version": "3.9.13"
  }
 },
 "nbformat": 4,
 "nbformat_minor": 5
}
